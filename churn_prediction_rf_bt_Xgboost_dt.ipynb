{
 "cells": [
  {
   "cell_type": "markdown",
   "metadata": {},
   "source": [
    "# Import Libraries"
   ]
  },
  {
   "cell_type": "code",
   "execution_count": 2,
   "metadata": {
    "execution": {
     "iopub.execute_input": "2022-11-11T17:16:38.317232Z",
     "iopub.status.busy": "2022-11-11T17:16:38.316837Z",
     "iopub.status.idle": "2022-11-11T17:16:38.325824Z",
     "shell.execute_reply": "2022-11-11T17:16:38.323675Z",
     "shell.execute_reply.started": "2022-11-11T17:16:38.317201Z"
    }
   },
   "outputs": [],
   "source": [
    "import numpy as np \n",
    "import pandas as pd \n",
    "\n",
    "from sklearn.model_selection import train_test_split\n",
    "\n",
    "from sklearn.tree import DecisionTreeClassifier\n",
    "from sklearn.ensemble import RandomForestClassifier\n",
    "from sklearn.ensemble import BaggingClassifier\n",
    "from sklearn.ensemble import GradientBoostingClassifier\n",
    "import xgboost as xgb\n",
    "\n",
    "from sklearn.model_selection import GridSearchCV\n",
    "\n",
    "from sklearn.metrics import classification_report\n",
    "import matplotlib.pyplot as plt\n",
    "import seaborn as sns"
   ]
  },
  {
   "cell_type": "markdown",
   "metadata": {},
   "source": [
    "#  Import Datasets"
   ]
  },
  {
   "cell_type": "code",
   "execution_count": 3,
   "metadata": {
    "execution": {
     "iopub.execute_input": "2022-11-11T17:16:38.378357Z",
     "iopub.status.busy": "2022-11-11T17:16:38.377368Z",
     "iopub.status.idle": "2022-11-11T17:16:38.421556Z",
     "shell.execute_reply": "2022-11-11T17:16:38.419984Z",
     "shell.execute_reply.started": "2022-11-11T17:16:38.378292Z"
    }
   },
   "outputs": [],
   "source": [
    "train = pd.read_csv(\"F:\\\\Project Portfolio\\\\Churn Classification - Telecom Industry\\\\train.csv\")\n",
    "test = pd.read_csv(\"F:\\\\Project Portfolio\\\\Churn Classification - Telecom Industry\\\\test.csv\")"
   ]
  },
  {
   "cell_type": "markdown",
   "metadata": {},
   "source": [
    "# Exploratory Data Analysis"
   ]
  },
  {
   "cell_type": "code",
   "execution_count": 4,
   "metadata": {
    "execution": {
     "iopub.execute_input": "2022-11-11T17:16:38.42426Z",
     "iopub.status.busy": "2022-11-11T17:16:38.423614Z",
     "iopub.status.idle": "2022-11-11T17:16:38.432777Z",
     "shell.execute_reply": "2022-11-11T17:16:38.431117Z",
     "shell.execute_reply.started": "2022-11-11T17:16:38.424219Z"
    }
   },
   "outputs": [
    {
     "data": {
      "text/plain": [
       "(5282, 21)"
      ]
     },
     "execution_count": 4,
     "metadata": {},
     "output_type": "execute_result"
    }
   ],
   "source": [
    "# view dimensions of dataset\n",
    "\n",
    "train.shape"
   ]
  },
  {
   "cell_type": "code",
   "execution_count": 5,
   "metadata": {
    "execution": {
     "iopub.execute_input": "2022-11-11T17:16:38.818384Z",
     "iopub.status.busy": "2022-11-11T17:16:38.817969Z",
     "iopub.status.idle": "2022-11-11T17:16:38.826793Z",
     "shell.execute_reply": "2022-11-11T17:16:38.824602Z",
     "shell.execute_reply.started": "2022-11-11T17:16:38.818352Z"
    }
   },
   "outputs": [
    {
     "data": {
      "text/plain": [
       "(1761, 20)"
      ]
     },
     "execution_count": 5,
     "metadata": {},
     "output_type": "execute_result"
    }
   ],
   "source": [
    "test.shape"
   ]
  },
  {
   "cell_type": "code",
   "execution_count": 6,
   "metadata": {
    "execution": {
     "iopub.execute_input": "2022-11-11T17:16:38.829792Z",
     "iopub.status.busy": "2022-11-11T17:16:38.829318Z",
     "iopub.status.idle": "2022-11-11T17:16:38.865787Z",
     "shell.execute_reply": "2022-11-11T17:16:38.864732Z",
     "shell.execute_reply.started": "2022-11-11T17:16:38.829756Z"
    }
   },
   "outputs": [
    {
     "data": {
      "text/html": [
       "<div>\n",
       "<style scoped>\n",
       "    .dataframe tbody tr th:only-of-type {\n",
       "        vertical-align: middle;\n",
       "    }\n",
       "\n",
       "    .dataframe tbody tr th {\n",
       "        vertical-align: top;\n",
       "    }\n",
       "\n",
       "    .dataframe thead th {\n",
       "        text-align: right;\n",
       "    }\n",
       "</style>\n",
       "<table border=\"1\" class=\"dataframe\">\n",
       "  <thead>\n",
       "    <tr style=\"text-align: right;\">\n",
       "      <th></th>\n",
       "      <th>customerID</th>\n",
       "      <th>gender</th>\n",
       "      <th>SeniorCitizen</th>\n",
       "      <th>Partner</th>\n",
       "      <th>Dependents</th>\n",
       "      <th>tenure</th>\n",
       "      <th>PhoneService</th>\n",
       "      <th>MultipleLines</th>\n",
       "      <th>InternetService</th>\n",
       "      <th>OnlineSecurity</th>\n",
       "      <th>...</th>\n",
       "      <th>DeviceProtection</th>\n",
       "      <th>TechSupport</th>\n",
       "      <th>StreamingTV</th>\n",
       "      <th>StreamingMovies</th>\n",
       "      <th>Contract</th>\n",
       "      <th>PaperlessBilling</th>\n",
       "      <th>PaymentMethod</th>\n",
       "      <th>MonthlyCharges</th>\n",
       "      <th>TotalCharges</th>\n",
       "      <th>Churn</th>\n",
       "    </tr>\n",
       "  </thead>\n",
       "  <tbody>\n",
       "    <tr>\n",
       "      <th>0</th>\n",
       "      <td>3704-IEAXF</td>\n",
       "      <td>Female</td>\n",
       "      <td>0</td>\n",
       "      <td>Yes</td>\n",
       "      <td>Yes</td>\n",
       "      <td>72</td>\n",
       "      <td>No</td>\n",
       "      <td>No phone service</td>\n",
       "      <td>DSL</td>\n",
       "      <td>No</td>\n",
       "      <td>...</td>\n",
       "      <td>No</td>\n",
       "      <td>Yes</td>\n",
       "      <td>Yes</td>\n",
       "      <td>Yes</td>\n",
       "      <td>Two year</td>\n",
       "      <td>No</td>\n",
       "      <td>Credit card (automatic)</td>\n",
       "      <td>53.65</td>\n",
       "      <td>3784</td>\n",
       "      <td>0</td>\n",
       "    </tr>\n",
       "    <tr>\n",
       "      <th>1</th>\n",
       "      <td>5175-AOBHI</td>\n",
       "      <td>Female</td>\n",
       "      <td>0</td>\n",
       "      <td>No</td>\n",
       "      <td>No</td>\n",
       "      <td>4</td>\n",
       "      <td>Yes</td>\n",
       "      <td>No</td>\n",
       "      <td>DSL</td>\n",
       "      <td>No</td>\n",
       "      <td>...</td>\n",
       "      <td>No</td>\n",
       "      <td>No</td>\n",
       "      <td>No</td>\n",
       "      <td>No</td>\n",
       "      <td>Month-to-month</td>\n",
       "      <td>Yes</td>\n",
       "      <td>Mailed check</td>\n",
       "      <td>46.00</td>\n",
       "      <td>193.6</td>\n",
       "      <td>1</td>\n",
       "    </tr>\n",
       "    <tr>\n",
       "      <th>2</th>\n",
       "      <td>6922-NCEDI</td>\n",
       "      <td>Male</td>\n",
       "      <td>0</td>\n",
       "      <td>No</td>\n",
       "      <td>Yes</td>\n",
       "      <td>56</td>\n",
       "      <td>Yes</td>\n",
       "      <td>No</td>\n",
       "      <td>No</td>\n",
       "      <td>No internet service</td>\n",
       "      <td>...</td>\n",
       "      <td>No internet service</td>\n",
       "      <td>No internet service</td>\n",
       "      <td>No internet service</td>\n",
       "      <td>No internet service</td>\n",
       "      <td>One year</td>\n",
       "      <td>Yes</td>\n",
       "      <td>Mailed check</td>\n",
       "      <td>21.20</td>\n",
       "      <td>1238.65</td>\n",
       "      <td>0</td>\n",
       "    </tr>\n",
       "    <tr>\n",
       "      <th>3</th>\n",
       "      <td>3143-ILDAL</td>\n",
       "      <td>Male</td>\n",
       "      <td>0</td>\n",
       "      <td>No</td>\n",
       "      <td>No</td>\n",
       "      <td>56</td>\n",
       "      <td>Yes</td>\n",
       "      <td>Yes</td>\n",
       "      <td>Fiber optic</td>\n",
       "      <td>No</td>\n",
       "      <td>...</td>\n",
       "      <td>No</td>\n",
       "      <td>Yes</td>\n",
       "      <td>No</td>\n",
       "      <td>Yes</td>\n",
       "      <td>Month-to-month</td>\n",
       "      <td>Yes</td>\n",
       "      <td>Electronic check</td>\n",
       "      <td>94.45</td>\n",
       "      <td>5124.6</td>\n",
       "      <td>1</td>\n",
       "    </tr>\n",
       "    <tr>\n",
       "      <th>4</th>\n",
       "      <td>0872-NXJYS</td>\n",
       "      <td>Female</td>\n",
       "      <td>0</td>\n",
       "      <td>No</td>\n",
       "      <td>No</td>\n",
       "      <td>9</td>\n",
       "      <td>Yes</td>\n",
       "      <td>No</td>\n",
       "      <td>Fiber optic</td>\n",
       "      <td>No</td>\n",
       "      <td>...</td>\n",
       "      <td>No</td>\n",
       "      <td>No</td>\n",
       "      <td>No</td>\n",
       "      <td>Yes</td>\n",
       "      <td>Month-to-month</td>\n",
       "      <td>Yes</td>\n",
       "      <td>Electronic check</td>\n",
       "      <td>79.55</td>\n",
       "      <td>723.4</td>\n",
       "      <td>1</td>\n",
       "    </tr>\n",
       "  </tbody>\n",
       "</table>\n",
       "<p>5 rows × 21 columns</p>\n",
       "</div>"
      ],
      "text/plain": [
       "   customerID  gender  SeniorCitizen Partner Dependents  tenure PhoneService  \\\n",
       "0  3704-IEAXF  Female              0     Yes        Yes      72           No   \n",
       "1  5175-AOBHI  Female              0      No         No       4          Yes   \n",
       "2  6922-NCEDI    Male              0      No        Yes      56          Yes   \n",
       "3  3143-ILDAL    Male              0      No         No      56          Yes   \n",
       "4  0872-NXJYS  Female              0      No         No       9          Yes   \n",
       "\n",
       "      MultipleLines InternetService       OnlineSecurity  ...  \\\n",
       "0  No phone service             DSL                   No  ...   \n",
       "1                No             DSL                   No  ...   \n",
       "2                No              No  No internet service  ...   \n",
       "3               Yes     Fiber optic                   No  ...   \n",
       "4                No     Fiber optic                   No  ...   \n",
       "\n",
       "      DeviceProtection          TechSupport          StreamingTV  \\\n",
       "0                   No                  Yes                  Yes   \n",
       "1                   No                   No                   No   \n",
       "2  No internet service  No internet service  No internet service   \n",
       "3                   No                  Yes                   No   \n",
       "4                   No                   No                   No   \n",
       "\n",
       "       StreamingMovies        Contract PaperlessBilling  \\\n",
       "0                  Yes        Two year               No   \n",
       "1                   No  Month-to-month              Yes   \n",
       "2  No internet service        One year              Yes   \n",
       "3                  Yes  Month-to-month              Yes   \n",
       "4                  Yes  Month-to-month              Yes   \n",
       "\n",
       "             PaymentMethod MonthlyCharges  TotalCharges Churn  \n",
       "0  Credit card (automatic)          53.65          3784     0  \n",
       "1             Mailed check          46.00         193.6     1  \n",
       "2             Mailed check          21.20       1238.65     0  \n",
       "3         Electronic check          94.45        5124.6     1  \n",
       "4         Electronic check          79.55         723.4     1  \n",
       "\n",
       "[5 rows x 21 columns]"
      ]
     },
     "execution_count": 6,
     "metadata": {},
     "output_type": "execute_result"
    }
   ],
   "source": [
    "# preview the dataset\n",
    "\n",
    "train.head()"
   ]
  },
  {
   "cell_type": "code",
   "execution_count": 7,
   "metadata": {
    "execution": {
     "iopub.execute_input": "2022-11-11T17:16:38.867583Z",
     "iopub.status.busy": "2022-11-11T17:16:38.867109Z",
     "iopub.status.idle": "2022-11-11T17:16:38.895187Z",
     "shell.execute_reply": "2022-11-11T17:16:38.893254Z",
     "shell.execute_reply.started": "2022-11-11T17:16:38.867536Z"
    }
   },
   "outputs": [
    {
     "data": {
      "text/html": [
       "<div>\n",
       "<style scoped>\n",
       "    .dataframe tbody tr th:only-of-type {\n",
       "        vertical-align: middle;\n",
       "    }\n",
       "\n",
       "    .dataframe tbody tr th {\n",
       "        vertical-align: top;\n",
       "    }\n",
       "\n",
       "    .dataframe thead th {\n",
       "        text-align: right;\n",
       "    }\n",
       "</style>\n",
       "<table border=\"1\" class=\"dataframe\">\n",
       "  <thead>\n",
       "    <tr style=\"text-align: right;\">\n",
       "      <th></th>\n",
       "      <th>customerID</th>\n",
       "      <th>gender</th>\n",
       "      <th>SeniorCitizen</th>\n",
       "      <th>Partner</th>\n",
       "      <th>Dependents</th>\n",
       "      <th>tenure</th>\n",
       "      <th>PhoneService</th>\n",
       "      <th>MultipleLines</th>\n",
       "      <th>InternetService</th>\n",
       "      <th>OnlineSecurity</th>\n",
       "      <th>OnlineBackup</th>\n",
       "      <th>DeviceProtection</th>\n",
       "      <th>TechSupport</th>\n",
       "      <th>StreamingTV</th>\n",
       "      <th>StreamingMovies</th>\n",
       "      <th>Contract</th>\n",
       "      <th>PaperlessBilling</th>\n",
       "      <th>PaymentMethod</th>\n",
       "      <th>MonthlyCharges</th>\n",
       "      <th>TotalCharges</th>\n",
       "    </tr>\n",
       "  </thead>\n",
       "  <tbody>\n",
       "    <tr>\n",
       "      <th>0</th>\n",
       "      <td>5343-SGUBI</td>\n",
       "      <td>Female</td>\n",
       "      <td>0</td>\n",
       "      <td>No</td>\n",
       "      <td>No</td>\n",
       "      <td>52</td>\n",
       "      <td>Yes</td>\n",
       "      <td>Yes</td>\n",
       "      <td>Fiber optic</td>\n",
       "      <td>No</td>\n",
       "      <td>Yes</td>\n",
       "      <td>No</td>\n",
       "      <td>No</td>\n",
       "      <td>No</td>\n",
       "      <td>No</td>\n",
       "      <td>One year</td>\n",
       "      <td>Yes</td>\n",
       "      <td>Mailed check</td>\n",
       "      <td>80.20</td>\n",
       "      <td>4297.6</td>\n",
       "    </tr>\n",
       "    <tr>\n",
       "      <th>1</th>\n",
       "      <td>5442-BXVND</td>\n",
       "      <td>Female</td>\n",
       "      <td>0</td>\n",
       "      <td>Yes</td>\n",
       "      <td>Yes</td>\n",
       "      <td>33</td>\n",
       "      <td>Yes</td>\n",
       "      <td>Yes</td>\n",
       "      <td>No</td>\n",
       "      <td>No internet service</td>\n",
       "      <td>No internet service</td>\n",
       "      <td>No internet service</td>\n",
       "      <td>No internet service</td>\n",
       "      <td>No internet service</td>\n",
       "      <td>No internet service</td>\n",
       "      <td>Month-to-month</td>\n",
       "      <td>No</td>\n",
       "      <td>Bank transfer (automatic)</td>\n",
       "      <td>24.25</td>\n",
       "      <td>838.5</td>\n",
       "    </tr>\n",
       "    <tr>\n",
       "      <th>2</th>\n",
       "      <td>6434-TTGJP</td>\n",
       "      <td>Male</td>\n",
       "      <td>0</td>\n",
       "      <td>Yes</td>\n",
       "      <td>Yes</td>\n",
       "      <td>10</td>\n",
       "      <td>No</td>\n",
       "      <td>No phone service</td>\n",
       "      <td>DSL</td>\n",
       "      <td>Yes</td>\n",
       "      <td>Yes</td>\n",
       "      <td>Yes</td>\n",
       "      <td>Yes</td>\n",
       "      <td>No</td>\n",
       "      <td>Yes</td>\n",
       "      <td>Two year</td>\n",
       "      <td>No</td>\n",
       "      <td>Credit card (automatic)</td>\n",
       "      <td>53.70</td>\n",
       "      <td>521</td>\n",
       "    </tr>\n",
       "    <tr>\n",
       "      <th>3</th>\n",
       "      <td>1628-BIZYP</td>\n",
       "      <td>Male</td>\n",
       "      <td>0</td>\n",
       "      <td>No</td>\n",
       "      <td>No</td>\n",
       "      <td>1</td>\n",
       "      <td>Yes</td>\n",
       "      <td>No</td>\n",
       "      <td>Fiber optic</td>\n",
       "      <td>No</td>\n",
       "      <td>Yes</td>\n",
       "      <td>No</td>\n",
       "      <td>No</td>\n",
       "      <td>No</td>\n",
       "      <td>Yes</td>\n",
       "      <td>Month-to-month</td>\n",
       "      <td>Yes</td>\n",
       "      <td>Electronic check</td>\n",
       "      <td>85.00</td>\n",
       "      <td>85</td>\n",
       "    </tr>\n",
       "    <tr>\n",
       "      <th>4</th>\n",
       "      <td>0298-XACET</td>\n",
       "      <td>Male</td>\n",
       "      <td>0</td>\n",
       "      <td>Yes</td>\n",
       "      <td>Yes</td>\n",
       "      <td>52</td>\n",
       "      <td>No</td>\n",
       "      <td>No phone service</td>\n",
       "      <td>DSL</td>\n",
       "      <td>No</td>\n",
       "      <td>Yes</td>\n",
       "      <td>Yes</td>\n",
       "      <td>Yes</td>\n",
       "      <td>Yes</td>\n",
       "      <td>No</td>\n",
       "      <td>Two year</td>\n",
       "      <td>No</td>\n",
       "      <td>Mailed check</td>\n",
       "      <td>50.20</td>\n",
       "      <td>2554</td>\n",
       "    </tr>\n",
       "  </tbody>\n",
       "</table>\n",
       "</div>"
      ],
      "text/plain": [
       "   customerID  gender  SeniorCitizen Partner Dependents  tenure PhoneService  \\\n",
       "0  5343-SGUBI  Female              0      No         No      52          Yes   \n",
       "1  5442-BXVND  Female              0     Yes        Yes      33          Yes   \n",
       "2  6434-TTGJP    Male              0     Yes        Yes      10           No   \n",
       "3  1628-BIZYP    Male              0      No         No       1          Yes   \n",
       "4  0298-XACET    Male              0     Yes        Yes      52           No   \n",
       "\n",
       "      MultipleLines InternetService       OnlineSecurity         OnlineBackup  \\\n",
       "0               Yes     Fiber optic                   No                  Yes   \n",
       "1               Yes              No  No internet service  No internet service   \n",
       "2  No phone service             DSL                  Yes                  Yes   \n",
       "3                No     Fiber optic                   No                  Yes   \n",
       "4  No phone service             DSL                   No                  Yes   \n",
       "\n",
       "      DeviceProtection          TechSupport          StreamingTV  \\\n",
       "0                   No                   No                   No   \n",
       "1  No internet service  No internet service  No internet service   \n",
       "2                  Yes                  Yes                   No   \n",
       "3                   No                   No                   No   \n",
       "4                  Yes                  Yes                  Yes   \n",
       "\n",
       "       StreamingMovies        Contract PaperlessBilling  \\\n",
       "0                   No        One year              Yes   \n",
       "1  No internet service  Month-to-month               No   \n",
       "2                  Yes        Two year               No   \n",
       "3                  Yes  Month-to-month              Yes   \n",
       "4                   No        Two year               No   \n",
       "\n",
       "               PaymentMethod  MonthlyCharges TotalCharges  \n",
       "0               Mailed check           80.20       4297.6  \n",
       "1  Bank transfer (automatic)           24.25        838.5  \n",
       "2    Credit card (automatic)           53.70          521  \n",
       "3           Electronic check           85.00           85  \n",
       "4               Mailed check           50.20         2554  "
      ]
     },
     "execution_count": 7,
     "metadata": {},
     "output_type": "execute_result"
    }
   ],
   "source": [
    "test.head()"
   ]
  },
  {
   "cell_type": "code",
   "execution_count": 8,
   "metadata": {
    "execution": {
     "iopub.execute_input": "2022-11-11T17:16:38.906411Z",
     "iopub.status.busy": "2022-11-11T17:16:38.904736Z",
     "iopub.status.idle": "2022-11-11T17:16:38.930069Z",
     "shell.execute_reply": "2022-11-11T17:16:38.928562Z",
     "shell.execute_reply.started": "2022-11-11T17:16:38.906275Z"
    }
   },
   "outputs": [
    {
     "name": "stdout",
     "output_type": "stream",
     "text": [
      "<class 'pandas.core.frame.DataFrame'>\n",
      "RangeIndex: 5282 entries, 0 to 5281\n",
      "Data columns (total 21 columns):\n",
      " #   Column            Non-Null Count  Dtype  \n",
      "---  ------            --------------  -----  \n",
      " 0   customerID        5282 non-null   object \n",
      " 1   gender            5282 non-null   object \n",
      " 2   SeniorCitizen     5282 non-null   int64  \n",
      " 3   Partner           5282 non-null   object \n",
      " 4   Dependents        5282 non-null   object \n",
      " 5   tenure            5282 non-null   int64  \n",
      " 6   PhoneService      5282 non-null   object \n",
      " 7   MultipleLines     5282 non-null   object \n",
      " 8   InternetService   5282 non-null   object \n",
      " 9   OnlineSecurity    5282 non-null   object \n",
      " 10  OnlineBackup      5282 non-null   object \n",
      " 11  DeviceProtection  5282 non-null   object \n",
      " 12  TechSupport       5282 non-null   object \n",
      " 13  StreamingTV       5282 non-null   object \n",
      " 14  StreamingMovies   5282 non-null   object \n",
      " 15  Contract          5282 non-null   object \n",
      " 16  PaperlessBilling  5282 non-null   object \n",
      " 17  PaymentMethod     5282 non-null   object \n",
      " 18  MonthlyCharges    5282 non-null   float64\n",
      " 19  TotalCharges      5282 non-null   object \n",
      " 20  Churn             5282 non-null   int64  \n",
      "dtypes: float64(1), int64(3), object(17)\n",
      "memory usage: 866.7+ KB\n"
     ]
    }
   ],
   "source": [
    "# View Summary of Datasets\n",
    "train.info()"
   ]
  },
  {
   "cell_type": "code",
   "execution_count": 9,
   "metadata": {
    "execution": {
     "iopub.execute_input": "2022-11-11T17:16:39.317279Z",
     "iopub.status.busy": "2022-11-11T17:16:39.316901Z",
     "iopub.status.idle": "2022-11-11T17:16:39.337451Z",
     "shell.execute_reply": "2022-11-11T17:16:39.336114Z",
     "shell.execute_reply.started": "2022-11-11T17:16:39.317248Z"
    }
   },
   "outputs": [
    {
     "name": "stdout",
     "output_type": "stream",
     "text": [
      "<class 'pandas.core.frame.DataFrame'>\n",
      "RangeIndex: 1761 entries, 0 to 1760\n",
      "Data columns (total 20 columns):\n",
      " #   Column            Non-Null Count  Dtype  \n",
      "---  ------            --------------  -----  \n",
      " 0   customerID        1761 non-null   object \n",
      " 1   gender            1761 non-null   object \n",
      " 2   SeniorCitizen     1761 non-null   int64  \n",
      " 3   Partner           1761 non-null   object \n",
      " 4   Dependents        1761 non-null   object \n",
      " 5   tenure            1761 non-null   int64  \n",
      " 6   PhoneService      1761 non-null   object \n",
      " 7   MultipleLines     1761 non-null   object \n",
      " 8   InternetService   1761 non-null   object \n",
      " 9   OnlineSecurity    1761 non-null   object \n",
      " 10  OnlineBackup      1761 non-null   object \n",
      " 11  DeviceProtection  1761 non-null   object \n",
      " 12  TechSupport       1761 non-null   object \n",
      " 13  StreamingTV       1761 non-null   object \n",
      " 14  StreamingMovies   1761 non-null   object \n",
      " 15  Contract          1761 non-null   object \n",
      " 16  PaperlessBilling  1761 non-null   object \n",
      " 17  PaymentMethod     1761 non-null   object \n",
      " 18  MonthlyCharges    1761 non-null   float64\n",
      " 19  TotalCharges      1761 non-null   object \n",
      "dtypes: float64(1), int64(2), object(17)\n",
      "memory usage: 275.3+ KB\n"
     ]
    }
   ],
   "source": [
    "test.info()"
   ]
  },
  {
   "cell_type": "code",
   "execution_count": 10,
   "metadata": {
    "execution": {
     "iopub.execute_input": "2022-11-11T17:16:39.340975Z",
     "iopub.status.busy": "2022-11-11T17:16:39.340443Z",
     "iopub.status.idle": "2022-11-11T17:16:39.350603Z",
     "shell.execute_reply": "2022-11-11T17:16:39.349227Z",
     "shell.execute_reply.started": "2022-11-11T17:16:39.340927Z"
    }
   },
   "outputs": [
    {
     "data": {
      "text/plain": [
       "0    3880\n",
       "1    1402\n",
       "Name: Churn, dtype: int64"
      ]
     },
     "execution_count": 10,
     "metadata": {},
     "output_type": "execute_result"
    }
   ],
   "source": [
    "# Explore target (Churn) Variable\n",
    "train['Churn'].value_counts()"
   ]
  },
  {
   "cell_type": "markdown",
   "metadata": {},
   "source": [
    "# Data Cleaning"
   ]
  },
  {
   "cell_type": "code",
   "execution_count": 11,
   "metadata": {
    "execution": {
     "iopub.execute_input": "2022-11-11T17:16:39.392683Z",
     "iopub.status.busy": "2022-11-11T17:16:39.392281Z",
     "iopub.status.idle": "2022-11-11T17:16:39.41472Z",
     "shell.execute_reply": "2022-11-11T17:16:39.41358Z",
     "shell.execute_reply.started": "2022-11-11T17:16:39.392652Z"
    }
   },
   "outputs": [
    {
     "data": {
      "text/plain": [
       "customerID          0\n",
       "gender              0\n",
       "SeniorCitizen       0\n",
       "Partner             0\n",
       "Dependents          0\n",
       "tenure              0\n",
       "PhoneService        0\n",
       "MultipleLines       0\n",
       "InternetService     0\n",
       "OnlineSecurity      0\n",
       "OnlineBackup        0\n",
       "DeviceProtection    0\n",
       "TechSupport         0\n",
       "StreamingTV         0\n",
       "StreamingMovies     0\n",
       "Contract            0\n",
       "PaperlessBilling    0\n",
       "PaymentMethod       0\n",
       "MonthlyCharges      0\n",
       "TotalCharges        0\n",
       "Churn               0\n",
       "dtype: int64"
      ]
     },
     "execution_count": 11,
     "metadata": {},
     "output_type": "execute_result"
    }
   ],
   "source": [
    "# check missing values in variables\n",
    "\n",
    "train.isnull().sum()"
   ]
  },
  {
   "cell_type": "code",
   "execution_count": 12,
   "metadata": {
    "execution": {
     "iopub.execute_input": "2022-11-11T17:16:39.417106Z",
     "iopub.status.busy": "2022-11-11T17:16:39.416744Z",
     "iopub.status.idle": "2022-11-11T17:16:39.432148Z",
     "shell.execute_reply": "2022-11-11T17:16:39.430838Z",
     "shell.execute_reply.started": "2022-11-11T17:16:39.417072Z"
    }
   },
   "outputs": [
    {
     "data": {
      "text/plain": [
       "customerID          0\n",
       "gender              0\n",
       "SeniorCitizen       0\n",
       "Partner             0\n",
       "Dependents          0\n",
       "tenure              0\n",
       "PhoneService        0\n",
       "MultipleLines       0\n",
       "InternetService     0\n",
       "OnlineSecurity      0\n",
       "OnlineBackup        0\n",
       "DeviceProtection    0\n",
       "TechSupport         0\n",
       "StreamingTV         0\n",
       "StreamingMovies     0\n",
       "Contract            0\n",
       "PaperlessBilling    0\n",
       "PaymentMethod       0\n",
       "MonthlyCharges      0\n",
       "TotalCharges        0\n",
       "dtype: int64"
      ]
     },
     "execution_count": 12,
     "metadata": {},
     "output_type": "execute_result"
    }
   ],
   "source": [
    "test.isnull().sum()"
   ]
  },
  {
   "cell_type": "code",
   "execution_count": 13,
   "metadata": {
    "execution": {
     "iopub.execute_input": "2022-11-11T17:16:40.065187Z",
     "iopub.status.busy": "2022-11-11T17:16:40.064667Z",
     "iopub.status.idle": "2022-11-11T17:16:40.078476Z",
     "shell.execute_reply": "2022-11-11T17:16:40.077043Z",
     "shell.execute_reply.started": "2022-11-11T17:16:40.06515Z"
    }
   },
   "outputs": [],
   "source": [
    "# We need to convert 'TotalCharges' from object to float\n",
    "train['TotalCharges'] = train['TotalCharges'].replace(' ',np.nan)\n",
    "test['TotalCharges'] = test['TotalCharges'].replace(' ',np.nan)\n",
    "\n",
    "train['TotalCharges'] = train['TotalCharges'].astype('float64')\n",
    "test['TotalCharges'] = test['TotalCharges'].astype('float64')"
   ]
  },
  {
   "cell_type": "code",
   "execution_count": 14,
   "metadata": {
    "execution": {
     "iopub.execute_input": "2022-11-11T17:16:40.082812Z",
     "iopub.status.busy": "2022-11-11T17:16:40.082247Z",
     "iopub.status.idle": "2022-11-11T17:16:40.09316Z",
     "shell.execute_reply": "2022-11-11T17:16:40.091505Z",
     "shell.execute_reply.started": "2022-11-11T17:16:40.082762Z"
    }
   },
   "outputs": [],
   "source": [
    "train['TotalCharges'].fillna(train['TotalCharges'].mean(),inplace=True)"
   ]
  },
  {
   "cell_type": "code",
   "execution_count": 15,
   "metadata": {
    "execution": {
     "iopub.execute_input": "2022-11-11T17:16:40.095514Z",
     "iopub.status.busy": "2022-11-11T17:16:40.095095Z",
     "iopub.status.idle": "2022-11-11T17:16:40.117428Z",
     "shell.execute_reply": "2022-11-11T17:16:40.116108Z",
     "shell.execute_reply.started": "2022-11-11T17:16:40.095459Z"
    }
   },
   "outputs": [
    {
     "data": {
      "text/plain": [
       "customerID          0\n",
       "gender              0\n",
       "SeniorCitizen       0\n",
       "Partner             0\n",
       "Dependents          0\n",
       "tenure              0\n",
       "PhoneService        0\n",
       "MultipleLines       0\n",
       "InternetService     0\n",
       "OnlineSecurity      0\n",
       "OnlineBackup        0\n",
       "DeviceProtection    0\n",
       "TechSupport         0\n",
       "StreamingTV         0\n",
       "StreamingMovies     0\n",
       "Contract            0\n",
       "PaperlessBilling    0\n",
       "PaymentMethod       0\n",
       "MonthlyCharges      0\n",
       "TotalCharges        0\n",
       "Churn               0\n",
       "dtype: int64"
      ]
     },
     "execution_count": 15,
     "metadata": {},
     "output_type": "execute_result"
    }
   ],
   "source": [
    "train.isnull().sum()"
   ]
  },
  {
   "cell_type": "code",
   "execution_count": 16,
   "metadata": {
    "execution": {
     "iopub.execute_input": "2022-11-11T17:16:40.119251Z",
     "iopub.status.busy": "2022-11-11T17:16:40.118906Z",
     "iopub.status.idle": "2022-11-11T17:16:40.129785Z",
     "shell.execute_reply": "2022-11-11T17:16:40.128383Z",
     "shell.execute_reply.started": "2022-11-11T17:16:40.119222Z"
    }
   },
   "outputs": [
    {
     "data": {
      "text/plain": [
       "2246.520733788396"
      ]
     },
     "execution_count": 16,
     "metadata": {},
     "output_type": "execute_result"
    }
   ],
   "source": [
    "test['TotalCharges'].mean()"
   ]
  },
  {
   "cell_type": "code",
   "execution_count": 17,
   "metadata": {
    "execution": {
     "iopub.execute_input": "2022-11-11T17:16:40.14788Z",
     "iopub.status.busy": "2022-11-11T17:16:40.146702Z",
     "iopub.status.idle": "2022-11-11T17:16:40.15348Z",
     "shell.execute_reply": "2022-11-11T17:16:40.152577Z",
     "shell.execute_reply.started": "2022-11-11T17:16:40.147841Z"
    }
   },
   "outputs": [],
   "source": [
    "test['TotalCharges'].fillna(test['TotalCharges'].mean(),inplace=True)"
   ]
  },
  {
   "cell_type": "code",
   "execution_count": 18,
   "metadata": {
    "execution": {
     "iopub.execute_input": "2022-11-11T17:16:40.156393Z",
     "iopub.status.busy": "2022-11-11T17:16:40.155135Z",
     "iopub.status.idle": "2022-11-11T17:16:40.175273Z",
     "shell.execute_reply": "2022-11-11T17:16:40.174066Z",
     "shell.execute_reply.started": "2022-11-11T17:16:40.156345Z"
    }
   },
   "outputs": [
    {
     "data": {
      "text/plain": [
       "customerID          0\n",
       "gender              0\n",
       "SeniorCitizen       0\n",
       "Partner             0\n",
       "Dependents          0\n",
       "tenure              0\n",
       "PhoneService        0\n",
       "MultipleLines       0\n",
       "InternetService     0\n",
       "OnlineSecurity      0\n",
       "OnlineBackup        0\n",
       "DeviceProtection    0\n",
       "TechSupport         0\n",
       "StreamingTV         0\n",
       "StreamingMovies     0\n",
       "Contract            0\n",
       "PaperlessBilling    0\n",
       "PaymentMethod       0\n",
       "MonthlyCharges      0\n",
       "TotalCharges        0\n",
       "dtype: int64"
      ]
     },
     "execution_count": 18,
     "metadata": {},
     "output_type": "execute_result"
    }
   ],
   "source": [
    "test.isnull().sum()"
   ]
  },
  {
   "cell_type": "code",
   "execution_count": 19,
   "metadata": {
    "execution": {
     "iopub.execute_input": "2022-11-11T17:16:40.603717Z",
     "iopub.status.busy": "2022-11-11T17:16:40.603295Z",
     "iopub.status.idle": "2022-11-11T17:16:40.61425Z",
     "shell.execute_reply": "2022-11-11T17:16:40.613246Z",
     "shell.execute_reply.started": "2022-11-11T17:16:40.603683Z"
    }
   },
   "outputs": [
    {
     "data": {
      "text/plain": [
       "0.654112853832767"
      ]
     },
     "execution_count": 19,
     "metadata": {},
     "output_type": "execute_result"
    }
   ],
   "source": [
    "#Checking Correlation between TotalCharges and MonthlyCharges ,both are highly correlated ,dropped MonthlyCharges\n",
    "correlation = train['MonthlyCharges'].corr(train['TotalCharges'])\n",
    "correlation"
   ]
  },
  {
   "cell_type": "code",
   "execution_count": 20,
   "metadata": {
    "execution": {
     "iopub.execute_input": "2022-11-11T17:16:40.616982Z",
     "iopub.status.busy": "2022-11-11T17:16:40.616631Z",
     "iopub.status.idle": "2022-11-11T17:16:40.626031Z",
     "shell.execute_reply": "2022-11-11T17:16:40.624577Z",
     "shell.execute_reply.started": "2022-11-11T17:16:40.616951Z"
    }
   },
   "outputs": [
    {
     "data": {
      "text/plain": [
       "0.6391150708110397"
      ]
     },
     "execution_count": 20,
     "metadata": {},
     "output_type": "execute_result"
    }
   ],
   "source": [
    "correlation = test['MonthlyCharges'].corr(test['TotalCharges'])\n",
    "correlation"
   ]
  },
  {
   "cell_type": "markdown",
   "metadata": {},
   "source": [
    "# Partition Data into X and Y"
   ]
  },
  {
   "cell_type": "code",
   "execution_count": 21,
   "metadata": {
    "execution": {
     "iopub.execute_input": "2022-11-11T17:16:40.686896Z",
     "iopub.status.busy": "2022-11-11T17:16:40.686459Z",
     "iopub.status.idle": "2022-11-11T17:16:40.69619Z",
     "shell.execute_reply": "2022-11-11T17:16:40.694853Z",
     "shell.execute_reply.started": "2022-11-11T17:16:40.686862Z"
    }
   },
   "outputs": [],
   "source": [
    "# Train dataset\n",
    "y = train['Churn']\n",
    "X = train.drop(['Churn','customerID','MonthlyCharges'], axis = 1)"
   ]
  },
  {
   "cell_type": "markdown",
   "metadata": {},
   "source": [
    "# Create Dummy Variables"
   ]
  },
  {
   "cell_type": "code",
   "execution_count": 22,
   "metadata": {
    "execution": {
     "iopub.execute_input": "2022-11-11T17:16:41.124725Z",
     "iopub.status.busy": "2022-11-11T17:16:41.124304Z",
     "iopub.status.idle": "2022-11-11T17:16:41.174736Z",
     "shell.execute_reply": "2022-11-11T17:16:41.173458Z",
     "shell.execute_reply.started": "2022-11-11T17:16:41.12469Z"
    }
   },
   "outputs": [
    {
     "data": {
      "text/html": [
       "<div>\n",
       "<style scoped>\n",
       "    .dataframe tbody tr th:only-of-type {\n",
       "        vertical-align: middle;\n",
       "    }\n",
       "\n",
       "    .dataframe tbody tr th {\n",
       "        vertical-align: top;\n",
       "    }\n",
       "\n",
       "    .dataframe thead th {\n",
       "        text-align: right;\n",
       "    }\n",
       "</style>\n",
       "<table border=\"1\" class=\"dataframe\">\n",
       "  <thead>\n",
       "    <tr style=\"text-align: right;\">\n",
       "      <th></th>\n",
       "      <th>SeniorCitizen</th>\n",
       "      <th>tenure</th>\n",
       "      <th>TotalCharges</th>\n",
       "      <th>gender_Female</th>\n",
       "      <th>gender_Male</th>\n",
       "      <th>Partner_No</th>\n",
       "      <th>Partner_Yes</th>\n",
       "      <th>Dependents_No</th>\n",
       "      <th>Dependents_Yes</th>\n",
       "      <th>PhoneService_No</th>\n",
       "      <th>...</th>\n",
       "      <th>StreamingMovies_Yes</th>\n",
       "      <th>Contract_Month-to-month</th>\n",
       "      <th>Contract_One year</th>\n",
       "      <th>Contract_Two year</th>\n",
       "      <th>PaperlessBilling_No</th>\n",
       "      <th>PaperlessBilling_Yes</th>\n",
       "      <th>PaymentMethod_Bank transfer (automatic)</th>\n",
       "      <th>PaymentMethod_Credit card (automatic)</th>\n",
       "      <th>PaymentMethod_Electronic check</th>\n",
       "      <th>PaymentMethod_Mailed check</th>\n",
       "    </tr>\n",
       "  </thead>\n",
       "  <tbody>\n",
       "    <tr>\n",
       "      <th>0</th>\n",
       "      <td>0</td>\n",
       "      <td>72</td>\n",
       "      <td>3784.00</td>\n",
       "      <td>1</td>\n",
       "      <td>0</td>\n",
       "      <td>0</td>\n",
       "      <td>1</td>\n",
       "      <td>0</td>\n",
       "      <td>1</td>\n",
       "      <td>1</td>\n",
       "      <td>...</td>\n",
       "      <td>1</td>\n",
       "      <td>0</td>\n",
       "      <td>0</td>\n",
       "      <td>1</td>\n",
       "      <td>1</td>\n",
       "      <td>0</td>\n",
       "      <td>0</td>\n",
       "      <td>1</td>\n",
       "      <td>0</td>\n",
       "      <td>0</td>\n",
       "    </tr>\n",
       "    <tr>\n",
       "      <th>1</th>\n",
       "      <td>0</td>\n",
       "      <td>4</td>\n",
       "      <td>193.60</td>\n",
       "      <td>1</td>\n",
       "      <td>0</td>\n",
       "      <td>1</td>\n",
       "      <td>0</td>\n",
       "      <td>1</td>\n",
       "      <td>0</td>\n",
       "      <td>0</td>\n",
       "      <td>...</td>\n",
       "      <td>0</td>\n",
       "      <td>1</td>\n",
       "      <td>0</td>\n",
       "      <td>0</td>\n",
       "      <td>0</td>\n",
       "      <td>1</td>\n",
       "      <td>0</td>\n",
       "      <td>0</td>\n",
       "      <td>0</td>\n",
       "      <td>1</td>\n",
       "    </tr>\n",
       "    <tr>\n",
       "      <th>2</th>\n",
       "      <td>0</td>\n",
       "      <td>56</td>\n",
       "      <td>1238.65</td>\n",
       "      <td>0</td>\n",
       "      <td>1</td>\n",
       "      <td>1</td>\n",
       "      <td>0</td>\n",
       "      <td>0</td>\n",
       "      <td>1</td>\n",
       "      <td>0</td>\n",
       "      <td>...</td>\n",
       "      <td>0</td>\n",
       "      <td>0</td>\n",
       "      <td>1</td>\n",
       "      <td>0</td>\n",
       "      <td>0</td>\n",
       "      <td>1</td>\n",
       "      <td>0</td>\n",
       "      <td>0</td>\n",
       "      <td>0</td>\n",
       "      <td>1</td>\n",
       "    </tr>\n",
       "    <tr>\n",
       "      <th>3</th>\n",
       "      <td>0</td>\n",
       "      <td>56</td>\n",
       "      <td>5124.60</td>\n",
       "      <td>0</td>\n",
       "      <td>1</td>\n",
       "      <td>1</td>\n",
       "      <td>0</td>\n",
       "      <td>1</td>\n",
       "      <td>0</td>\n",
       "      <td>0</td>\n",
       "      <td>...</td>\n",
       "      <td>1</td>\n",
       "      <td>1</td>\n",
       "      <td>0</td>\n",
       "      <td>0</td>\n",
       "      <td>0</td>\n",
       "      <td>1</td>\n",
       "      <td>0</td>\n",
       "      <td>0</td>\n",
       "      <td>1</td>\n",
       "      <td>0</td>\n",
       "    </tr>\n",
       "    <tr>\n",
       "      <th>4</th>\n",
       "      <td>0</td>\n",
       "      <td>9</td>\n",
       "      <td>723.40</td>\n",
       "      <td>1</td>\n",
       "      <td>0</td>\n",
       "      <td>1</td>\n",
       "      <td>0</td>\n",
       "      <td>1</td>\n",
       "      <td>0</td>\n",
       "      <td>0</td>\n",
       "      <td>...</td>\n",
       "      <td>1</td>\n",
       "      <td>1</td>\n",
       "      <td>0</td>\n",
       "      <td>0</td>\n",
       "      <td>0</td>\n",
       "      <td>1</td>\n",
       "      <td>0</td>\n",
       "      <td>0</td>\n",
       "      <td>1</td>\n",
       "      <td>0</td>\n",
       "    </tr>\n",
       "  </tbody>\n",
       "</table>\n",
       "<p>5 rows × 44 columns</p>\n",
       "</div>"
      ],
      "text/plain": [
       "   SeniorCitizen  tenure  TotalCharges  gender_Female  gender_Male  \\\n",
       "0              0      72       3784.00              1            0   \n",
       "1              0       4        193.60              1            0   \n",
       "2              0      56       1238.65              0            1   \n",
       "3              0      56       5124.60              0            1   \n",
       "4              0       9        723.40              1            0   \n",
       "\n",
       "   Partner_No  Partner_Yes  Dependents_No  Dependents_Yes  PhoneService_No  \\\n",
       "0           0            1              0               1                1   \n",
       "1           1            0              1               0                0   \n",
       "2           1            0              0               1                0   \n",
       "3           1            0              1               0                0   \n",
       "4           1            0              1               0                0   \n",
       "\n",
       "   ...  StreamingMovies_Yes  Contract_Month-to-month  Contract_One year  \\\n",
       "0  ...                    1                        0                  0   \n",
       "1  ...                    0                        1                  0   \n",
       "2  ...                    0                        0                  1   \n",
       "3  ...                    1                        1                  0   \n",
       "4  ...                    1                        1                  0   \n",
       "\n",
       "   Contract_Two year  PaperlessBilling_No  PaperlessBilling_Yes  \\\n",
       "0                  1                    1                     0   \n",
       "1                  0                    0                     1   \n",
       "2                  0                    0                     1   \n",
       "3                  0                    0                     1   \n",
       "4                  0                    0                     1   \n",
       "\n",
       "   PaymentMethod_Bank transfer (automatic)  \\\n",
       "0                                        0   \n",
       "1                                        0   \n",
       "2                                        0   \n",
       "3                                        0   \n",
       "4                                        0   \n",
       "\n",
       "   PaymentMethod_Credit card (automatic)  PaymentMethod_Electronic check  \\\n",
       "0                                      1                               0   \n",
       "1                                      0                               0   \n",
       "2                                      0                               0   \n",
       "3                                      0                               1   \n",
       "4                                      0                               1   \n",
       "\n",
       "   PaymentMethod_Mailed check  \n",
       "0                           0  \n",
       "1                           1  \n",
       "2                           1  \n",
       "3                           0  \n",
       "4                           0  \n",
       "\n",
       "[5 rows x 44 columns]"
      ]
     },
     "execution_count": 22,
     "metadata": {},
     "output_type": "execute_result"
    }
   ],
   "source": [
    "# Improvement Area 1 - OHE, Ord Enc, Categorical Encoders\n",
    "X = pd.get_dummies(X)\n",
    "X.head(5)"
   ]
  },
  {
   "cell_type": "code",
   "execution_count": 23,
   "metadata": {
    "execution": {
     "iopub.execute_input": "2022-11-11T17:16:41.178314Z",
     "iopub.status.busy": "2022-11-11T17:16:41.177799Z",
     "iopub.status.idle": "2022-11-11T17:16:41.188532Z",
     "shell.execute_reply": "2022-11-11T17:16:41.18663Z",
     "shell.execute_reply.started": "2022-11-11T17:16:41.178257Z"
    }
   },
   "outputs": [],
   "source": [
    "# Test dataset\n",
    "X_predict = test.drop(['customerID','MonthlyCharges'], axis = 1)"
   ]
  },
  {
   "cell_type": "code",
   "execution_count": 24,
   "metadata": {
    "execution": {
     "iopub.execute_input": "2022-11-11T17:16:41.190649Z",
     "iopub.status.busy": "2022-11-11T17:16:41.19012Z",
     "iopub.status.idle": "2022-11-11T17:16:41.240286Z",
     "shell.execute_reply": "2022-11-11T17:16:41.238604Z",
     "shell.execute_reply.started": "2022-11-11T17:16:41.190593Z"
    }
   },
   "outputs": [
    {
     "data": {
      "text/html": [
       "<div>\n",
       "<style scoped>\n",
       "    .dataframe tbody tr th:only-of-type {\n",
       "        vertical-align: middle;\n",
       "    }\n",
       "\n",
       "    .dataframe tbody tr th {\n",
       "        vertical-align: top;\n",
       "    }\n",
       "\n",
       "    .dataframe thead th {\n",
       "        text-align: right;\n",
       "    }\n",
       "</style>\n",
       "<table border=\"1\" class=\"dataframe\">\n",
       "  <thead>\n",
       "    <tr style=\"text-align: right;\">\n",
       "      <th></th>\n",
       "      <th>SeniorCitizen</th>\n",
       "      <th>tenure</th>\n",
       "      <th>TotalCharges</th>\n",
       "      <th>gender_Female</th>\n",
       "      <th>gender_Male</th>\n",
       "      <th>Partner_No</th>\n",
       "      <th>Partner_Yes</th>\n",
       "      <th>Dependents_No</th>\n",
       "      <th>Dependents_Yes</th>\n",
       "      <th>PhoneService_No</th>\n",
       "      <th>...</th>\n",
       "      <th>StreamingMovies_Yes</th>\n",
       "      <th>Contract_Month-to-month</th>\n",
       "      <th>Contract_One year</th>\n",
       "      <th>Contract_Two year</th>\n",
       "      <th>PaperlessBilling_No</th>\n",
       "      <th>PaperlessBilling_Yes</th>\n",
       "      <th>PaymentMethod_Bank transfer (automatic)</th>\n",
       "      <th>PaymentMethod_Credit card (automatic)</th>\n",
       "      <th>PaymentMethod_Electronic check</th>\n",
       "      <th>PaymentMethod_Mailed check</th>\n",
       "    </tr>\n",
       "  </thead>\n",
       "  <tbody>\n",
       "    <tr>\n",
       "      <th>0</th>\n",
       "      <td>0</td>\n",
       "      <td>52</td>\n",
       "      <td>4297.6</td>\n",
       "      <td>1</td>\n",
       "      <td>0</td>\n",
       "      <td>1</td>\n",
       "      <td>0</td>\n",
       "      <td>1</td>\n",
       "      <td>0</td>\n",
       "      <td>0</td>\n",
       "      <td>...</td>\n",
       "      <td>0</td>\n",
       "      <td>0</td>\n",
       "      <td>1</td>\n",
       "      <td>0</td>\n",
       "      <td>0</td>\n",
       "      <td>1</td>\n",
       "      <td>0</td>\n",
       "      <td>0</td>\n",
       "      <td>0</td>\n",
       "      <td>1</td>\n",
       "    </tr>\n",
       "    <tr>\n",
       "      <th>1</th>\n",
       "      <td>0</td>\n",
       "      <td>33</td>\n",
       "      <td>838.5</td>\n",
       "      <td>1</td>\n",
       "      <td>0</td>\n",
       "      <td>0</td>\n",
       "      <td>1</td>\n",
       "      <td>0</td>\n",
       "      <td>1</td>\n",
       "      <td>0</td>\n",
       "      <td>...</td>\n",
       "      <td>0</td>\n",
       "      <td>1</td>\n",
       "      <td>0</td>\n",
       "      <td>0</td>\n",
       "      <td>1</td>\n",
       "      <td>0</td>\n",
       "      <td>1</td>\n",
       "      <td>0</td>\n",
       "      <td>0</td>\n",
       "      <td>0</td>\n",
       "    </tr>\n",
       "    <tr>\n",
       "      <th>2</th>\n",
       "      <td>0</td>\n",
       "      <td>10</td>\n",
       "      <td>521.0</td>\n",
       "      <td>0</td>\n",
       "      <td>1</td>\n",
       "      <td>0</td>\n",
       "      <td>1</td>\n",
       "      <td>0</td>\n",
       "      <td>1</td>\n",
       "      <td>1</td>\n",
       "      <td>...</td>\n",
       "      <td>1</td>\n",
       "      <td>0</td>\n",
       "      <td>0</td>\n",
       "      <td>1</td>\n",
       "      <td>1</td>\n",
       "      <td>0</td>\n",
       "      <td>0</td>\n",
       "      <td>1</td>\n",
       "      <td>0</td>\n",
       "      <td>0</td>\n",
       "    </tr>\n",
       "    <tr>\n",
       "      <th>3</th>\n",
       "      <td>0</td>\n",
       "      <td>1</td>\n",
       "      <td>85.0</td>\n",
       "      <td>0</td>\n",
       "      <td>1</td>\n",
       "      <td>1</td>\n",
       "      <td>0</td>\n",
       "      <td>1</td>\n",
       "      <td>0</td>\n",
       "      <td>0</td>\n",
       "      <td>...</td>\n",
       "      <td>1</td>\n",
       "      <td>1</td>\n",
       "      <td>0</td>\n",
       "      <td>0</td>\n",
       "      <td>0</td>\n",
       "      <td>1</td>\n",
       "      <td>0</td>\n",
       "      <td>0</td>\n",
       "      <td>1</td>\n",
       "      <td>0</td>\n",
       "    </tr>\n",
       "    <tr>\n",
       "      <th>4</th>\n",
       "      <td>0</td>\n",
       "      <td>52</td>\n",
       "      <td>2554.0</td>\n",
       "      <td>0</td>\n",
       "      <td>1</td>\n",
       "      <td>0</td>\n",
       "      <td>1</td>\n",
       "      <td>0</td>\n",
       "      <td>1</td>\n",
       "      <td>1</td>\n",
       "      <td>...</td>\n",
       "      <td>0</td>\n",
       "      <td>0</td>\n",
       "      <td>0</td>\n",
       "      <td>1</td>\n",
       "      <td>1</td>\n",
       "      <td>0</td>\n",
       "      <td>0</td>\n",
       "      <td>0</td>\n",
       "      <td>0</td>\n",
       "      <td>1</td>\n",
       "    </tr>\n",
       "  </tbody>\n",
       "</table>\n",
       "<p>5 rows × 44 columns</p>\n",
       "</div>"
      ],
      "text/plain": [
       "   SeniorCitizen  tenure  TotalCharges  gender_Female  gender_Male  \\\n",
       "0              0      52        4297.6              1            0   \n",
       "1              0      33         838.5              1            0   \n",
       "2              0      10         521.0              0            1   \n",
       "3              0       1          85.0              0            1   \n",
       "4              0      52        2554.0              0            1   \n",
       "\n",
       "   Partner_No  Partner_Yes  Dependents_No  Dependents_Yes  PhoneService_No  \\\n",
       "0           1            0              1               0                0   \n",
       "1           0            1              0               1                0   \n",
       "2           0            1              0               1                1   \n",
       "3           1            0              1               0                0   \n",
       "4           0            1              0               1                1   \n",
       "\n",
       "   ...  StreamingMovies_Yes  Contract_Month-to-month  Contract_One year  \\\n",
       "0  ...                    0                        0                  1   \n",
       "1  ...                    0                        1                  0   \n",
       "2  ...                    1                        0                  0   \n",
       "3  ...                    1                        1                  0   \n",
       "4  ...                    0                        0                  0   \n",
       "\n",
       "   Contract_Two year  PaperlessBilling_No  PaperlessBilling_Yes  \\\n",
       "0                  0                    0                     1   \n",
       "1                  0                    1                     0   \n",
       "2                  1                    1                     0   \n",
       "3                  0                    0                     1   \n",
       "4                  1                    1                     0   \n",
       "\n",
       "   PaymentMethod_Bank transfer (automatic)  \\\n",
       "0                                        0   \n",
       "1                                        1   \n",
       "2                                        0   \n",
       "3                                        0   \n",
       "4                                        0   \n",
       "\n",
       "   PaymentMethod_Credit card (automatic)  PaymentMethod_Electronic check  \\\n",
       "0                                      0                               0   \n",
       "1                                      0                               0   \n",
       "2                                      1                               0   \n",
       "3                                      0                               1   \n",
       "4                                      0                               0   \n",
       "\n",
       "   PaymentMethod_Mailed check  \n",
       "0                           1  \n",
       "1                           0  \n",
       "2                           0  \n",
       "3                           0  \n",
       "4                           1  \n",
       "\n",
       "[5 rows x 44 columns]"
      ]
     },
     "execution_count": 24,
     "metadata": {},
     "output_type": "execute_result"
    }
   ],
   "source": [
    "X_predict = pd.get_dummies(X_predict)\n",
    "X_predict.head(5)"
   ]
  },
  {
   "cell_type": "code",
   "execution_count": 25,
   "metadata": {
    "execution": {
     "iopub.execute_input": "2022-11-11T17:16:41.243272Z",
     "iopub.status.busy": "2022-11-11T17:16:41.242046Z",
     "iopub.status.idle": "2022-11-11T17:16:41.266516Z",
     "shell.execute_reply": "2022-11-11T17:16:41.265191Z",
     "shell.execute_reply.started": "2022-11-11T17:16:41.243217Z"
    }
   },
   "outputs": [
    {
     "name": "stdout",
     "output_type": "stream",
     "text": [
      "<class 'pandas.core.frame.DataFrame'>\n",
      "RangeIndex: 5282 entries, 0 to 5281\n",
      "Data columns (total 44 columns):\n",
      " #   Column                                   Non-Null Count  Dtype  \n",
      "---  ------                                   --------------  -----  \n",
      " 0   SeniorCitizen                            5282 non-null   int64  \n",
      " 1   tenure                                   5282 non-null   int64  \n",
      " 2   TotalCharges                             5282 non-null   float64\n",
      " 3   gender_Female                            5282 non-null   uint8  \n",
      " 4   gender_Male                              5282 non-null   uint8  \n",
      " 5   Partner_No                               5282 non-null   uint8  \n",
      " 6   Partner_Yes                              5282 non-null   uint8  \n",
      " 7   Dependents_No                            5282 non-null   uint8  \n",
      " 8   Dependents_Yes                           5282 non-null   uint8  \n",
      " 9   PhoneService_No                          5282 non-null   uint8  \n",
      " 10  PhoneService_Yes                         5282 non-null   uint8  \n",
      " 11  MultipleLines_No                         5282 non-null   uint8  \n",
      " 12  MultipleLines_No phone service           5282 non-null   uint8  \n",
      " 13  MultipleLines_Yes                        5282 non-null   uint8  \n",
      " 14  InternetService_DSL                      5282 non-null   uint8  \n",
      " 15  InternetService_Fiber optic              5282 non-null   uint8  \n",
      " 16  InternetService_No                       5282 non-null   uint8  \n",
      " 17  OnlineSecurity_No                        5282 non-null   uint8  \n",
      " 18  OnlineSecurity_No internet service       5282 non-null   uint8  \n",
      " 19  OnlineSecurity_Yes                       5282 non-null   uint8  \n",
      " 20  OnlineBackup_No                          5282 non-null   uint8  \n",
      " 21  OnlineBackup_No internet service         5282 non-null   uint8  \n",
      " 22  OnlineBackup_Yes                         5282 non-null   uint8  \n",
      " 23  DeviceProtection_No                      5282 non-null   uint8  \n",
      " 24  DeviceProtection_No internet service     5282 non-null   uint8  \n",
      " 25  DeviceProtection_Yes                     5282 non-null   uint8  \n",
      " 26  TechSupport_No                           5282 non-null   uint8  \n",
      " 27  TechSupport_No internet service          5282 non-null   uint8  \n",
      " 28  TechSupport_Yes                          5282 non-null   uint8  \n",
      " 29  StreamingTV_No                           5282 non-null   uint8  \n",
      " 30  StreamingTV_No internet service          5282 non-null   uint8  \n",
      " 31  StreamingTV_Yes                          5282 non-null   uint8  \n",
      " 32  StreamingMovies_No                       5282 non-null   uint8  \n",
      " 33  StreamingMovies_No internet service      5282 non-null   uint8  \n",
      " 34  StreamingMovies_Yes                      5282 non-null   uint8  \n",
      " 35  Contract_Month-to-month                  5282 non-null   uint8  \n",
      " 36  Contract_One year                        5282 non-null   uint8  \n",
      " 37  Contract_Two year                        5282 non-null   uint8  \n",
      " 38  PaperlessBilling_No                      5282 non-null   uint8  \n",
      " 39  PaperlessBilling_Yes                     5282 non-null   uint8  \n",
      " 40  PaymentMethod_Bank transfer (automatic)  5282 non-null   uint8  \n",
      " 41  PaymentMethod_Credit card (automatic)    5282 non-null   uint8  \n",
      " 42  PaymentMethod_Electronic check           5282 non-null   uint8  \n",
      " 43  PaymentMethod_Mailed check               5282 non-null   uint8  \n",
      "dtypes: float64(1), int64(2), uint8(41)\n",
      "memory usage: 335.4 KB\n"
     ]
    }
   ],
   "source": [
    "X.info()"
   ]
  },
  {
   "cell_type": "code",
   "execution_count": 26,
   "metadata": {
    "execution": {
     "iopub.execute_input": "2022-11-11T17:16:41.269904Z",
     "iopub.status.busy": "2022-11-11T17:16:41.269365Z",
     "iopub.status.idle": "2022-11-11T17:16:41.282234Z",
     "shell.execute_reply": "2022-11-11T17:16:41.281032Z",
     "shell.execute_reply.started": "2022-11-11T17:16:41.269856Z"
    }
   },
   "outputs": [
    {
     "data": {
      "text/plain": [
       "20.200000      9\n",
       "2295.560343    8\n",
       "19.650000      7\n",
       "19.900000      6\n",
       "19.750000      6\n",
       "              ..\n",
       "4519.500000    1\n",
       "3886.050000    1\n",
       "2727.800000    1\n",
       "1888.450000    1\n",
       "109.300000     1\n",
       "Name: TotalCharges, Length: 4959, dtype: int64"
      ]
     },
     "execution_count": 26,
     "metadata": {},
     "output_type": "execute_result"
    }
   ],
   "source": [
    "train['TotalCharges'].value_counts()"
   ]
  },
  {
   "cell_type": "code",
   "execution_count": 27,
   "metadata": {
    "execution": {
     "iopub.execute_input": "2022-11-11T17:16:42.332372Z",
     "iopub.status.busy": "2022-11-11T17:16:42.331965Z",
     "iopub.status.idle": "2022-11-11T17:17:36.578458Z",
     "shell.execute_reply": "2022-11-11T17:17:36.577273Z",
     "shell.execute_reply.started": "2022-11-11T17:16:42.332341Z"
    }
   },
   "outputs": [
    {
     "data": {
      "image/png": "[encoded data removed]",
      "text/plain": [
       "<Figure size 2160x720 with 1 Axes>"
      ]
     },
     "metadata": {
      "needs_background": "light"
     },
     "output_type": "display_data"
    }
   ],
   "source": [
    "import matplotlib.pyplot as plt\n",
    "plt.figure(figsize= (30,10))\n",
    "sns.countplot(x='TotalCharges',data=train)\n",
    "plt.title('count_of_TotalCharges Column')\n",
    "plt.show()"
   ]
  },
  {
   "cell_type": "code",
   "execution_count": 28,
   "metadata": {
    "execution": {
     "iopub.execute_input": "2022-11-11T17:17:36.582073Z",
     "iopub.status.busy": "2022-11-11T17:17:36.581191Z",
     "iopub.status.idle": "2022-11-11T17:17:36.590735Z",
     "shell.execute_reply": "2022-11-11T17:17:36.589555Z",
     "shell.execute_reply.started": "2022-11-11T17:17:36.582027Z"
    }
   },
   "outputs": [
    {
     "data": {
      "text/plain": [
       "0    4426\n",
       "1     856\n",
       "Name: SeniorCitizen, dtype: int64"
      ]
     },
     "execution_count": 28,
     "metadata": {},
     "output_type": "execute_result"
    }
   ],
   "source": [
    "train['SeniorCitizen'].value_counts()"
   ]
  },
  {
   "cell_type": "code",
   "execution_count": 29,
   "metadata": {
    "execution": {
     "iopub.execute_input": "2022-11-11T17:17:36.593574Z",
     "iopub.status.busy": "2022-11-11T17:17:36.593073Z",
     "iopub.status.idle": "2022-11-11T17:17:36.772308Z",
     "shell.execute_reply": "2022-11-11T17:17:36.771116Z",
     "shell.execute_reply.started": "2022-11-11T17:17:36.593527Z"
    }
   },
   "outputs": [
    {
     "data": {
      "image/png": "[encoded data removed]",
      "text/plain": [
       "<Figure size 432x432 with 1 Axes>"
      ]
     },
     "metadata": {
      "needs_background": "light"
     },
     "output_type": "display_data"
    }
   ],
   "source": [
    "plt.figure(figsize= (6,6))\n",
    "sns.countplot(x='SeniorCitizen',data=train)\n",
    "plt.title('count_of_SeniorCitizen Column')\n",
    "plt.show()"
   ]
  },
  {
   "cell_type": "code",
   "execution_count": 30,
   "metadata": {
    "execution": {
     "iopub.execute_input": "2022-11-11T17:17:36.774625Z",
     "iopub.status.busy": "2022-11-11T17:17:36.774162Z",
     "iopub.status.idle": "2022-11-11T17:17:36.967178Z",
     "shell.execute_reply": "2022-11-11T17:17:36.965594Z",
     "shell.execute_reply.started": "2022-11-11T17:17:36.774593Z"
    }
   },
   "outputs": [
    {
     "data": {
      "image/png": "[encoded data removed]",
      "text/plain": [
       "<Figure size 432x432 with 1 Axes>"
      ]
     },
     "metadata": {
      "needs_background": "light"
     },
     "output_type": "display_data"
    }
   ],
   "source": [
    "plt.figure(figsize= (6,6))\n",
    "sns.countplot(x='Churn',data=train)\n",
    "plt.title('count_of_Churn Column')\n",
    "plt.show()"
   ]
  },
  {
   "cell_type": "markdown",
   "metadata": {},
   "source": [
    "# Train Test Split"
   ]
  },
  {
   "cell_type": "code",
   "execution_count": 31,
   "metadata": {
    "execution": {
     "iopub.execute_input": "2022-11-11T17:21:23.369721Z",
     "iopub.status.busy": "2022-11-11T17:21:23.369283Z",
     "iopub.status.idle": "2022-11-11T17:21:23.383195Z",
     "shell.execute_reply": "2022-11-11T17:21:23.382058Z",
     "shell.execute_reply.started": "2022-11-11T17:21:23.369688Z"
    }
   },
   "outputs": [],
   "source": [
    "X_train, X_test, y_train, y_test = train_test_split(X, y, test_size = 0.2, random_state = 42,stratify = y)"
   ]
  },
  {
   "cell_type": "code",
   "execution_count": 32,
   "metadata": {
    "execution": {
     "iopub.execute_input": "2022-11-11T17:21:29.674563Z",
     "iopub.status.busy": "2022-11-11T17:21:29.674129Z",
     "iopub.status.idle": "2022-11-11T17:21:29.683035Z",
     "shell.execute_reply": "2022-11-11T17:21:29.681727Z",
     "shell.execute_reply.started": "2022-11-11T17:21:29.674528Z"
    }
   },
   "outputs": [
    {
     "data": {
      "text/plain": [
       "((4225, 44), (1057, 44))"
      ]
     },
     "execution_count": 32,
     "metadata": {},
     "output_type": "execute_result"
    }
   ],
   "source": [
    "# check the shape of X_train and X_test\n",
    "\n",
    "X_train.shape, X_test.shape"
   ]
  },
  {
   "cell_type": "markdown",
   "metadata": {},
   "source": [
    "# Random Forest Classifier model with default parametes"
   ]
  },
  {
   "cell_type": "code",
   "execution_count": 33,
   "metadata": {
    "execution": {
     "iopub.execute_input": "2022-11-11T17:21:33.604683Z",
     "iopub.status.busy": "2022-11-11T17:21:33.604263Z",
     "iopub.status.idle": "2022-11-11T17:21:33.611419Z",
     "shell.execute_reply": "2022-11-11T17:21:33.609584Z",
     "shell.execute_reply.started": "2022-11-11T17:21:33.604651Z"
    }
   },
   "outputs": [],
   "source": [
    "# instantiate the classifier \n",
    "\n",
    "rfc = RandomForestClassifier(n_estimators=10,random_state=0)"
   ]
  },
  {
   "cell_type": "code",
   "execution_count": 34,
   "metadata": {
    "execution": {
     "iopub.execute_input": "2022-11-11T17:21:42.196164Z",
     "iopub.status.busy": "2022-11-11T17:21:42.195722Z",
     "iopub.status.idle": "2022-11-11T17:21:42.794638Z",
     "shell.execute_reply": "2022-11-11T17:21:42.793323Z",
     "shell.execute_reply.started": "2022-11-11T17:21:42.196127Z"
    }
   },
   "outputs": [
    {
     "data": {
      "text/plain": [
       "RandomForestClassifier(n_estimators=10, random_state=0)"
      ]
     },
     "execution_count": 34,
     "metadata": {},
     "output_type": "execute_result"
    }
   ],
   "source": [
    "# fit the model\n",
    "\n",
    "rfc.fit(X_train, y_train)"
   ]
  },
  {
   "cell_type": "code",
   "execution_count": 35,
   "metadata": {
    "execution": {
     "iopub.execute_input": "2022-11-11T17:21:46.146585Z",
     "iopub.status.busy": "2022-11-11T17:21:46.146151Z",
     "iopub.status.idle": "2022-11-11T17:21:46.19967Z",
     "shell.execute_reply": "2022-11-11T17:21:46.198382Z",
     "shell.execute_reply.started": "2022-11-11T17:21:46.146551Z"
    }
   },
   "outputs": [],
   "source": [
    "# Predict the Test set results\n",
    "\n",
    "y_pred = rfc.predict(X_test)\n",
    "#X_pred = rfc.predict(X_train)\n"
   ]
  },
  {
   "cell_type": "code",
   "execution_count": 36,
   "metadata": {
    "execution": {
     "iopub.execute_input": "2022-11-11T17:21:49.851893Z",
     "iopub.status.busy": "2022-11-11T17:21:49.851348Z",
     "iopub.status.idle": "2022-11-11T17:21:49.860385Z",
     "shell.execute_reply": "2022-11-11T17:21:49.858875Z",
     "shell.execute_reply.started": "2022-11-11T17:21:49.851845Z"
    }
   },
   "outputs": [
    {
     "name": "stdout",
     "output_type": "stream",
     "text": [
      "Model accuracy score with 10 decision-trees : 0.7833\n"
     ]
    }
   ],
   "source": [
    "# Check accuracy score \n",
    "\n",
    "from sklearn.metrics import accuracy_score\n",
    "\n",
    "print('Model accuracy score with 10 decision-trees : {0:0.4f}'. format(accuracy_score(y_test, y_pred)))"
   ]
  },
  {
   "cell_type": "markdown",
   "metadata": {},
   "source": [
    "# Random Forest Classifier model with parameter n_estimators = 100"
   ]
  },
  {
   "cell_type": "code",
   "execution_count": 37,
   "metadata": {
    "execution": {
     "iopub.execute_input": "2022-11-11T17:21:57.55595Z",
     "iopub.status.busy": "2022-11-11T17:21:57.555569Z",
     "iopub.status.idle": "2022-11-11T17:21:57.5617Z",
     "shell.execute_reply": "2022-11-11T17:21:57.56061Z",
     "shell.execute_reply.started": "2022-11-11T17:21:57.555919Z"
    }
   },
   "outputs": [],
   "source": [
    "# instantiate the classifier with n_estimators = 100\n",
    "\n",
    "rfc_100 = RandomForestClassifier(n_estimators=100, random_state=0,class_weight='balanced')"
   ]
  },
  {
   "cell_type": "code",
   "execution_count": 38,
   "metadata": {
    "execution": {
     "iopub.execute_input": "2022-11-11T17:22:00.580973Z",
     "iopub.status.busy": "2022-11-11T17:22:00.580576Z",
     "iopub.status.idle": "2022-11-11T17:22:01.172698Z",
     "shell.execute_reply": "2022-11-11T17:22:01.171459Z",
     "shell.execute_reply.started": "2022-11-11T17:22:00.58094Z"
    }
   },
   "outputs": [
    {
     "data": {
      "text/plain": [
       "RandomForestClassifier(class_weight='balanced', random_state=0)"
      ]
     },
     "execution_count": 38,
     "metadata": {},
     "output_type": "execute_result"
    }
   ],
   "source": [
    "# fit the model to the training set\n",
    "\n",
    "rfc_100.fit(X_train, y_train)"
   ]
  },
  {
   "cell_type": "code",
   "execution_count": 39,
   "metadata": {
    "execution": {
     "iopub.execute_input": "2022-11-11T17:22:11.281182Z",
     "iopub.status.busy": "2022-11-11T17:22:11.280714Z",
     "iopub.status.idle": "2022-11-11T17:22:11.335288Z",
     "shell.execute_reply": "2022-11-11T17:22:11.333987Z",
     "shell.execute_reply.started": "2022-11-11T17:22:11.281146Z"
    }
   },
   "outputs": [],
   "source": [
    "# Predict on the test set results\n",
    "\n",
    "y_pred_100 = rfc_100.predict(X_test)"
   ]
  },
  {
   "cell_type": "code",
   "execution_count": 40,
   "metadata": {
    "execution": {
     "iopub.execute_input": "2022-11-11T17:22:14.05151Z",
     "iopub.status.busy": "2022-11-11T17:22:14.051066Z",
     "iopub.status.idle": "2022-11-11T17:22:14.059034Z",
     "shell.execute_reply": "2022-11-11T17:22:14.057532Z",
     "shell.execute_reply.started": "2022-11-11T17:22:14.051461Z"
    }
   },
   "outputs": [
    {
     "name": "stdout",
     "output_type": "stream",
     "text": [
      "Model accuracy score with 100 decision-trees : 0.7890\n"
     ]
    }
   ],
   "source": [
    "# Check accuracy score \n",
    "\n",
    "print('Model accuracy score with 100 decision-trees : {0:0.4f}'. format(accuracy_score(y_test, y_pred_100)))"
   ]
  },
  {
   "cell_type": "code",
   "execution_count": 41,
   "metadata": {
    "execution": {
     "iopub.execute_input": "2022-11-11T17:22:19.366026Z",
     "iopub.status.busy": "2022-11-11T17:22:19.365559Z",
     "iopub.status.idle": "2022-11-11T17:22:19.370811Z",
     "shell.execute_reply": "2022-11-11T17:22:19.369479Z",
     "shell.execute_reply.started": "2022-11-11T17:22:19.365995Z"
    }
   },
   "outputs": [],
   "source": [
    "# create the classifier with n_estimators = 100\n",
    "\n",
    "clf = RandomForestClassifier(n_estimators=100, random_state=0)"
   ]
  },
  {
   "cell_type": "code",
   "execution_count": 42,
   "metadata": {
    "execution": {
     "iopub.execute_input": "2022-11-11T17:22:26.726524Z",
     "iopub.status.busy": "2022-11-11T17:22:26.726113Z",
     "iopub.status.idle": "2022-11-11T17:22:27.368988Z",
     "shell.execute_reply": "2022-11-11T17:22:27.367765Z",
     "shell.execute_reply.started": "2022-11-11T17:22:26.726477Z"
    }
   },
   "outputs": [
    {
     "data": {
      "text/plain": [
       "RandomForestClassifier(random_state=0)"
      ]
     },
     "execution_count": 42,
     "metadata": {},
     "output_type": "execute_result"
    }
   ],
   "source": [
    "# fit the model to the training set\n",
    "\n",
    "clf.fit(X_train, y_train)"
   ]
  },
  {
   "cell_type": "code",
   "execution_count": 43,
   "metadata": {
    "execution": {
     "iopub.execute_input": "2022-11-11T17:22:32.31099Z",
     "iopub.status.busy": "2022-11-11T17:22:32.310605Z",
     "iopub.status.idle": "2022-11-11T17:22:32.338355Z",
     "shell.execute_reply": "2022-11-11T17:22:32.337173Z",
     "shell.execute_reply.started": "2022-11-11T17:22:32.31096Z"
    }
   },
   "outputs": [
    {
     "data": {
      "text/plain": [
       "TotalCharges                               0.197015\n",
       "tenure                                     0.157893\n",
       "Contract_Month-to-month                    0.054085\n",
       "TechSupport_No                             0.037256\n",
       "OnlineSecurity_No                          0.030531\n",
       "PaymentMethod_Electronic check             0.028600\n",
       "InternetService_Fiber optic                0.025935\n",
       "OnlineBackup_No                            0.023302\n",
       "SeniorCitizen                              0.022896\n",
       "gender_Male                                0.020442\n",
       "gender_Female                              0.020370\n",
       "PaperlessBilling_No                        0.018130\n",
       "PaperlessBilling_Yes                       0.017159\n",
       "Partner_No                                 0.017005\n",
       "Partner_Yes                                0.016884\n",
       "InternetService_DSL                        0.016803\n",
       "MultipleLines_Yes                          0.016633\n",
       "MultipleLines_No                           0.016173\n",
       "DeviceProtection_No                        0.016041\n",
       "Contract_Two year                          0.015853\n",
       "OnlineBackup_Yes                           0.015732\n",
       "StreamingTV_No                             0.015665\n",
       "StreamingTV_Yes                            0.015477\n",
       "DeviceProtection_Yes                       0.014944\n",
       "PaymentMethod_Bank transfer (automatic)    0.014758\n",
       "StreamingMovies_Yes                        0.014754\n",
       "PaymentMethod_Credit card (automatic)      0.014485\n",
       "TechSupport_Yes                            0.014460\n",
       "StreamingMovies_No                         0.014377\n",
       "OnlineSecurity_Yes                         0.014198\n",
       "Dependents_No                              0.014175\n",
       "Dependents_Yes                             0.013372\n",
       "PaymentMethod_Mailed check                 0.013083\n",
       "Contract_One year                          0.010837\n",
       "PhoneService_No                            0.004416\n",
       "PhoneService_Yes                           0.004195\n",
       "MultipleLines_No phone service             0.003593\n",
       "StreamingMovies_No internet service        0.003543\n",
       "DeviceProtection_No internet service       0.003272\n",
       "OnlineBackup_No internet service           0.003242\n",
       "InternetService_No                         0.002407\n",
       "OnlineSecurity_No internet service         0.002344\n",
       "StreamingTV_No internet service            0.002097\n",
       "TechSupport_No internet service            0.001568\n",
       "dtype: float64"
      ]
     },
     "execution_count": 43,
     "metadata": {},
     "output_type": "execute_result"
    }
   ],
   "source": [
    "# view the feature scores\n",
    "\n",
    "feature_scores = pd.Series(clf.feature_importances_, index=X_train.columns).sort_values(ascending=False)\n",
    "feature_scores"
   ]
  },
  {
   "cell_type": "code",
   "execution_count": 44,
   "metadata": {},
   "outputs": [],
   "source": [
    "#We can see that the most important feature is 'Tenure' and least important feature is 'TechSupport_No internet service' "
   ]
  },
  {
   "cell_type": "code",
   "execution_count": 45,
   "metadata": {},
   "outputs": [],
   "source": [
    "import matplotlib.pyplot as plt # data visualization\n",
    "import seaborn as sns # statistical data visualization\n",
    "%matplotlib inline"
   ]
  },
  {
   "cell_type": "code",
   "execution_count": 46,
   "metadata": {
    "execution": {
     "iopub.execute_input": "2022-11-11T17:22:53.445949Z",
     "iopub.status.busy": "2022-11-11T17:22:53.445547Z",
     "iopub.status.idle": "2022-11-11T17:22:54.975069Z",
     "shell.execute_reply": "2022-11-11T17:22:54.973532Z",
     "shell.execute_reply.started": "2022-11-11T17:22:53.445917Z"
    }
   },
   "outputs": [
    {
     "data": {
      "image/png": "[encoded data removed]",
      "text/plain": [
       "<Figure size 432x288 with 1 Axes>"
      ]
     },
     "metadata": {
      "needs_background": "light"
     },
     "output_type": "display_data"
    }
   ],
   "source": [
    "# Creating a seaborn bar plot\n",
    "\n",
    "sns.barplot(x=feature_scores, y=feature_scores.index)\n",
    "\n",
    "plt.xlabel('Feature Importance Score')\n",
    "plt.ylabel('Features')\n",
    "\n",
    "plt.title(\"Visualizing Important Features\")\n",
    "\n",
    "plt.show()"
   ]
  },
  {
   "cell_type": "markdown",
   "metadata": {
    "execution": {
     "iopub.execute_input": "2022-11-07T16:45:35.159234Z",
     "iopub.status.busy": "2022-11-07T16:45:35.158791Z",
     "iopub.status.idle": "2022-11-07T16:45:35.165471Z",
     "shell.execute_reply": "2022-11-07T16:45:35.164117Z",
     "shell.execute_reply.started": "2022-11-07T16:45:35.159197Z"
    }
   },
   "source": [
    "# Confusion matrix"
   ]
  },
  {
   "cell_type": "code",
   "execution_count": 47,
   "metadata": {
    "execution": {
     "iopub.execute_input": "2022-11-11T17:24:16.926515Z",
     "iopub.status.busy": "2022-11-11T17:24:16.926068Z",
     "iopub.status.idle": "2022-11-11T17:24:16.938475Z",
     "shell.execute_reply": "2022-11-11T17:24:16.936425Z",
     "shell.execute_reply.started": "2022-11-11T17:24:16.926466Z"
    }
   },
   "outputs": [
    {
     "name": "stdout",
     "output_type": "stream",
     "text": [
      "Confusion matrix\n",
      "\n",
      " [[693  83]\n",
      " [146 135]]\n"
     ]
    }
   ],
   "source": [
    "# Print the Confusion Matrix and slice it into four pieces\n",
    "\n",
    "from sklearn.metrics import confusion_matrix\n",
    "\n",
    "cm = confusion_matrix(y_test, y_pred)\n",
    "\n",
    "print('Confusion matrix\\n\\n', cm)"
   ]
  },
  {
   "cell_type": "code",
   "execution_count": 48,
   "metadata": {
    "execution": {
     "iopub.execute_input": "2022-11-11T17:24:52.075851Z",
     "iopub.status.busy": "2022-11-11T17:24:52.075459Z",
     "iopub.status.idle": "2022-11-11T17:24:52.0817Z",
     "shell.execute_reply": "2022-11-11T17:24:52.080467Z",
     "shell.execute_reply.started": "2022-11-11T17:24:52.075821Z"
    }
   },
   "outputs": [],
   "source": [
    "#Improvement Area \n",
    "dt_param_grid = {\n",
    "    'n_estimators' : (60,80,100,120,140,160,180),\n",
    "    'max_depth' : (3,5,7,9),\n",
    "    'max_features' :  ['auto', 'sqrt', 'log2'] }"
   ]
  },
  {
   "cell_type": "code",
   "execution_count": 49,
   "metadata": {
    "execution": {
     "iopub.execute_input": "2022-11-11T17:25:02.156369Z",
     "iopub.status.busy": "2022-11-11T17:25:02.155914Z",
     "iopub.status.idle": "2022-11-11T17:25:02.163915Z",
     "shell.execute_reply": "2022-11-11T17:25:02.161841Z",
     "shell.execute_reply.started": "2022-11-11T17:25:02.156332Z"
    }
   },
   "outputs": [],
   "source": [
    "rf_grid = GridSearchCV(RandomForestClassifier(n_jobs = -1,oob_score=False),param_grid = dt_param_grid, cv = 3,verbose = True)"
   ]
  },
  {
   "cell_type": "code",
   "execution_count": 50,
   "metadata": {
    "execution": {
     "iopub.execute_input": "2022-11-11T17:25:05.980844Z",
     "iopub.status.busy": "2022-11-11T17:25:05.980419Z",
     "iopub.status.idle": "2022-11-11T17:27:02.541117Z",
     "shell.execute_reply": "2022-11-11T17:27:02.53964Z",
     "shell.execute_reply.started": "2022-11-11T17:25:05.980813Z"
    }
   },
   "outputs": [
    {
     "name": "stdout",
     "output_type": "stream",
     "text": [
      "Fitting 3 folds for each of 84 candidates, totalling 252 fits\n"
     ]
    }
   ],
   "source": [
    "rf__grid_model = rf_grid.fit(X_train,y_train)"
   ]
  },
  {
   "cell_type": "code",
   "execution_count": 51,
   "metadata": {
    "execution": {
     "iopub.execute_input": "2022-11-11T17:27:26.14665Z",
     "iopub.status.busy": "2022-11-11T17:27:26.146135Z",
     "iopub.status.idle": "2022-11-11T17:27:26.157084Z",
     "shell.execute_reply": "2022-11-11T17:27:26.155717Z",
     "shell.execute_reply.started": "2022-11-11T17:27:26.146604Z"
    }
   },
   "outputs": [
    {
     "data": {
      "text/plain": [
       "RandomForestClassifier(max_depth=7, max_features='sqrt', n_estimators=160,\n",
       "                       n_jobs=-1)"
      ]
     },
     "execution_count": 51,
     "metadata": {},
     "output_type": "execute_result"
    }
   ],
   "source": [
    "rf__grid_model.best_estimator_"
   ]
  },
  {
   "cell_type": "code",
   "execution_count": 52,
   "metadata": {
    "execution": {
     "iopub.execute_input": "2022-11-11T17:27:32.745989Z",
     "iopub.status.busy": "2022-11-11T17:27:32.745537Z",
     "iopub.status.idle": "2022-11-11T17:27:32.754385Z",
     "shell.execute_reply": "2022-11-11T17:27:32.752938Z",
     "shell.execute_reply.started": "2022-11-11T17:27:32.745954Z"
    }
   },
   "outputs": [
    {
     "data": {
      "text/plain": [
       "0.8061544965266575"
      ]
     },
     "execution_count": 52,
     "metadata": {},
     "output_type": "execute_result"
    }
   ],
   "source": [
    "rf_score = rf__grid_model.best_score_\n",
    "rf_score"
   ]
  },
  {
   "cell_type": "code",
   "execution_count": 53,
   "metadata": {
    "execution": {
     "iopub.execute_input": "2022-11-11T17:27:40.366207Z",
     "iopub.status.busy": "2022-11-11T17:27:40.36563Z",
     "iopub.status.idle": "2022-11-11T17:27:40.372294Z",
     "shell.execute_reply": "2022-11-11T17:27:40.370833Z",
     "shell.execute_reply.started": "2022-11-11T17:27:40.366169Z"
    }
   },
   "outputs": [],
   "source": [
    "rf_model=RandomForestClassifier(max_depth=7, max_features='auto', n_estimators=160,\n",
    "                       n_jobs=-1)"
   ]
  },
  {
   "cell_type": "code",
   "execution_count": 54,
   "metadata": {
    "execution": {
     "iopub.execute_input": "2022-11-11T17:27:43.666078Z",
     "iopub.status.busy": "2022-11-11T17:27:43.665669Z",
     "iopub.status.idle": "2022-11-11T17:27:43.882999Z",
     "shell.execute_reply": "2022-11-11T17:27:43.88173Z",
     "shell.execute_reply.started": "2022-11-11T17:27:43.666044Z"
    }
   },
   "outputs": [],
   "source": [
    "y_train_predicted = rf_grid.predict(X_train)\n",
    "y_test_predicted = rf_grid.predict(X_test)"
   ]
  },
  {
   "cell_type": "code",
   "execution_count": 55,
   "metadata": {},
   "outputs": [],
   "source": [
    "#y_sub_predicted = rf_grid.predict(X_predict)"
   ]
  },
  {
   "cell_type": "code",
   "execution_count": 56,
   "metadata": {
    "execution": {
     "iopub.execute_input": "2022-11-11T17:27:50.436886Z",
     "iopub.status.busy": "2022-11-11T17:27:50.436462Z",
     "iopub.status.idle": "2022-11-11T17:27:50.45958Z",
     "shell.execute_reply": "2022-11-11T17:27:50.458292Z",
     "shell.execute_reply.started": "2022-11-11T17:27:50.436851Z"
    }
   },
   "outputs": [
    {
     "name": "stdout",
     "output_type": "stream",
     "text": [
      "              precision    recall  f1-score   support\n",
      "\n",
      "           0       0.85      0.93      0.89      3104\n",
      "           1       0.73      0.54      0.62      1121\n",
      "\n",
      "    accuracy                           0.83      4225\n",
      "   macro avg       0.79      0.73      0.75      4225\n",
      "weighted avg       0.82      0.83      0.82      4225\n",
      "\n"
     ]
    }
   ],
   "source": [
    "print(classification_report(y_train, y_train_predicted))"
   ]
  },
  {
   "cell_type": "code",
   "execution_count": 57,
   "metadata": {
    "execution": {
     "iopub.execute_input": "2022-11-11T17:27:57.69164Z",
     "iopub.status.busy": "2022-11-11T17:27:57.690517Z",
     "iopub.status.idle": "2022-11-11T17:27:57.703734Z",
     "shell.execute_reply": "2022-11-11T17:27:57.702578Z",
     "shell.execute_reply.started": "2022-11-11T17:27:57.691599Z"
    }
   },
   "outputs": [
    {
     "name": "stdout",
     "output_type": "stream",
     "text": [
      "              precision    recall  f1-score   support\n",
      "\n",
      "           0       0.84      0.91      0.87       776\n",
      "           1       0.66      0.51      0.58       281\n",
      "\n",
      "    accuracy                           0.80      1057\n",
      "   macro avg       0.75      0.71      0.72      1057\n",
      "weighted avg       0.79      0.80      0.79      1057\n",
      "\n"
     ]
    }
   ],
   "source": [
    "print(classification_report(y_test, y_test_predicted))"
   ]
  },
  {
   "cell_type": "code",
   "execution_count": 123,
   "metadata": {
    "execution": {
     "iopub.execute_input": "2022-11-11T17:28:04.746261Z",
     "iopub.status.busy": "2022-11-11T17:28:04.745834Z",
     "iopub.status.idle": "2022-11-11T17:28:04.858394Z",
     "shell.execute_reply": "2022-11-11T17:28:04.85694Z",
     "shell.execute_reply.started": "2022-11-11T17:28:04.746226Z"
    }
   },
   "outputs": [
    {
     "data": {
      "text/plain": [
       "array([0, 0, 0, ..., 0, 0, 0], dtype=int64)"
      ]
     },
     "execution_count": 123,
     "metadata": {},
     "output_type": "execute_result"
    }
   ],
   "source": [
    "#y_sub_predicted = rf_grid.predict(X_predict)\n",
    "#y_sub_predicted"
   ]
  },
  {
   "cell_type": "markdown",
   "metadata": {},
   "source": [
    "# Bagged Tree "
   ]
  },
  {
   "cell_type": "code",
   "execution_count": 59,
   "metadata": {},
   "outputs": [],
   "source": [
    "bt= BaggingClassifier(oob_score=True,n_jobs=-1,n_estimators=20,random_state=400,base_estimator=DecisionTreeClassifier())"
   ]
  },
  {
   "cell_type": "code",
   "execution_count": 60,
   "metadata": {},
   "outputs": [
    {
     "data": {
      "text/plain": [
       "BaggingClassifier(base_estimator=DecisionTreeClassifier(), n_estimators=20,\n",
       "                  n_jobs=-1, oob_score=True, random_state=400)"
      ]
     },
     "execution_count": 60,
     "metadata": {},
     "output_type": "execute_result"
    }
   ],
   "source": [
    "bt.fit(X_train,y_train)"
   ]
  },
  {
   "cell_type": "code",
   "execution_count": 61,
   "metadata": {},
   "outputs": [
    {
     "data": {
      "text/plain": [
       "0.7652071005917159"
      ]
     },
     "execution_count": 61,
     "metadata": {},
     "output_type": "execute_result"
    }
   ],
   "source": [
    "bt.oob_score_"
   ]
  },
  {
   "cell_type": "code",
   "execution_count": 62,
   "metadata": {},
   "outputs": [
    {
     "data": {
      "text/plain": [
       "0.7814569536423841"
      ]
     },
     "execution_count": 62,
     "metadata": {},
     "output_type": "execute_result"
    }
   ],
   "source": [
    "bt_score = bt.score(X_test,y_test)\n",
    "bt_score"
   ]
  },
  {
   "cell_type": "code",
   "execution_count": 63,
   "metadata": {},
   "outputs": [
    {
     "name": "stderr",
     "output_type": "stream",
     "text": [
      "C:\\Anaconda3\\lib\\site-packages\\sklearn\\ensemble\\_bagging.py:706: UserWarning: Some inputs do not have OOB scores. This probably means too few estimators were used to compute any reliable oob estimates.\n",
      "  warn(\n",
      "C:\\Anaconda3\\lib\\site-packages\\sklearn\\ensemble\\_bagging.py:712: RuntimeWarning: invalid value encountered in true_divide\n",
      "  oob_decision_function = predictions / predictions.sum(axis=1)[:, np.newaxis]\n"
     ]
    },
    {
     "name": "stdout",
     "output_type": "stream",
     "text": [
      "For n_estimatiors = 10\n",
      "OOB score is 0.7500591715976331\n",
      "*************************\n",
      "For n_estimatiors = 30\n",
      "OOB score is 0.7635502958579882\n",
      "*************************\n",
      "For n_estimatiors = 50\n",
      "OOB score is 0.77301775147929\n",
      "*************************\n",
      "For n_estimatiors = 70\n",
      "OOB score is 0.7779881656804734\n",
      "*************************\n",
      "For n_estimatiors = 90\n",
      "OOB score is 0.7768047337278107\n",
      "*************************\n",
      "For n_estimatiors = 110\n",
      "OOB score is 0.778698224852071\n",
      "*************************\n",
      "For n_estimatiors = 130\n",
      "OOB score is 0.781301775147929\n",
      "*************************\n",
      "For n_estimatiors = 150\n",
      "OOB score is 0.7794082840236687\n",
      "*************************\n",
      "For n_estimatiors = 170\n",
      "OOB score is 0.7791715976331361\n",
      "*************************\n",
      "For n_estimatiors = 190\n",
      "OOB score is 0.7810650887573964\n",
      "*************************\n",
      "For n_estimatiors = 210\n",
      "OOB score is 0.7808284023668639\n",
      "*************************\n",
      "For n_estimatiors = 230\n",
      "OOB score is 0.7794082840236687\n",
      "*************************\n",
      "For n_estimatiors = 250\n",
      "OOB score is 0.7782248520710059\n",
      "*************************\n",
      "For n_estimatiors = 270\n",
      "OOB score is 0.7794082840236687\n",
      "*************************\n",
      "For n_estimatiors = 290\n",
      "OOB score is 0.7798816568047338\n",
      "*************************\n"
     ]
    }
   ],
   "source": [
    "for w in range(10,300,20):\n",
    "    bt= BaggingClassifier(oob_score=True,n_jobs=-1,n_estimators=w,random_state=400,base_estimator=DecisionTreeClassifier())\n",
    "    bt.fit(X_train,y_train)\n",
    "    oob=bt.oob_score_\n",
    "    print('For n_estimatiors = '+str(w))\n",
    "    print('OOB score is '+str(oob))\n",
    "    print(\"*************************\")"
   ]
  },
  {
   "cell_type": "code",
   "execution_count": 64,
   "metadata": {},
   "outputs": [
    {
     "data": {
      "text/plain": [
       "BaggingClassifier(base_estimator=DecisionTreeClassifier(), n_estimators=130,\n",
       "                  n_jobs=-1, oob_score=True, random_state=400)"
      ]
     },
     "execution_count": 64,
     "metadata": {},
     "output_type": "execute_result"
    }
   ],
   "source": [
    "#Finalizing on a tree model with 130 trees\n",
    "bt= BaggingClassifier(oob_score=True,n_jobs=-1,n_estimators=130,random_state=400,base_estimator=DecisionTreeClassifier())\n",
    "bt.fit(X_train,y_train)\n"
   ]
  },
  {
   "cell_type": "code",
   "execution_count": 65,
   "metadata": {},
   "outputs": [
    {
     "data": {
      "text/plain": [
       "[DecisionTreeClassifier(random_state=1859118377),\n",
       " DecisionTreeClassifier(random_state=1559503733),\n",
       " DecisionTreeClassifier(random_state=1714796222),\n",
       " DecisionTreeClassifier(random_state=1907120008),\n",
       " DecisionTreeClassifier(random_state=2074988447),\n",
       " DecisionTreeClassifier(random_state=270530007),\n",
       " DecisionTreeClassifier(random_state=494610195),\n",
       " DecisionTreeClassifier(random_state=914653141),\n",
       " DecisionTreeClassifier(random_state=1249763274),\n",
       " DecisionTreeClassifier(random_state=1698305238),\n",
       " DecisionTreeClassifier(random_state=764038977),\n",
       " DecisionTreeClassifier(random_state=554023484),\n",
       " DecisionTreeClassifier(random_state=980045649),\n",
       " DecisionTreeClassifier(random_state=618787335),\n",
       " DecisionTreeClassifier(random_state=1478338621),\n",
       " DecisionTreeClassifier(random_state=878522688),\n",
       " DecisionTreeClassifier(random_state=1479530151),\n",
       " DecisionTreeClassifier(random_state=529095905),\n",
       " DecisionTreeClassifier(random_state=1322465795),\n",
       " DecisionTreeClassifier(random_state=2138769912),\n",
       " DecisionTreeClassifier(random_state=61502782),\n",
       " DecisionTreeClassifier(random_state=1799310766),\n",
       " DecisionTreeClassifier(random_state=830858493),\n",
       " DecisionTreeClassifier(random_state=386390921),\n",
       " DecisionTreeClassifier(random_state=557988009),\n",
       " DecisionTreeClassifier(random_state=1236397848),\n",
       " DecisionTreeClassifier(random_state=2117385448),\n",
       " DecisionTreeClassifier(random_state=758019998),\n",
       " DecisionTreeClassifier(random_state=1432275623),\n",
       " DecisionTreeClassifier(random_state=1719636617),\n",
       " DecisionTreeClassifier(random_state=1689285904),\n",
       " DecisionTreeClassifier(random_state=686057112),\n",
       " DecisionTreeClassifier(random_state=882441692),\n",
       " DecisionTreeClassifier(random_state=1800072583),\n",
       " DecisionTreeClassifier(random_state=1714547571),\n",
       " DecisionTreeClassifier(random_state=1582051556),\n",
       " DecisionTreeClassifier(random_state=144629911),\n",
       " DecisionTreeClassifier(random_state=1872696256),\n",
       " DecisionTreeClassifier(random_state=1041021512),\n",
       " DecisionTreeClassifier(random_state=242714384),\n",
       " DecisionTreeClassifier(random_state=67350880),\n",
       " DecisionTreeClassifier(random_state=1803048660),\n",
       " DecisionTreeClassifier(random_state=1974008533),\n",
       " DecisionTreeClassifier(random_state=1958374617),\n",
       " DecisionTreeClassifier(random_state=1068946429),\n",
       " DecisionTreeClassifier(random_state=601425038),\n",
       " DecisionTreeClassifier(random_state=1256188943),\n",
       " DecisionTreeClassifier(random_state=1667272400),\n",
       " DecisionTreeClassifier(random_state=911707597),\n",
       " DecisionTreeClassifier(random_state=1683690693),\n",
       " DecisionTreeClassifier(random_state=644321642),\n",
       " DecisionTreeClassifier(random_state=1679272972),\n",
       " DecisionTreeClassifier(random_state=326694465),\n",
       " DecisionTreeClassifier(random_state=1093209313),\n",
       " DecisionTreeClassifier(random_state=758743505),\n",
       " DecisionTreeClassifier(random_state=1783367317),\n",
       " DecisionTreeClassifier(random_state=1110312258),\n",
       " DecisionTreeClassifier(random_state=755174166),\n",
       " DecisionTreeClassifier(random_state=443767883),\n",
       " DecisionTreeClassifier(random_state=512295005),\n",
       " DecisionTreeClassifier(random_state=1813233843),\n",
       " DecisionTreeClassifier(random_state=170003804),\n",
       " DecisionTreeClassifier(random_state=470033576),\n",
       " DecisionTreeClassifier(random_state=1747558770),\n",
       " DecisionTreeClassifier(random_state=103293719),\n",
       " DecisionTreeClassifier(random_state=266139621),\n",
       " DecisionTreeClassifier(random_state=1563088756),\n",
       " DecisionTreeClassifier(random_state=1645327151),\n",
       " DecisionTreeClassifier(random_state=1870515361),\n",
       " DecisionTreeClassifier(random_state=1259068907),\n",
       " DecisionTreeClassifier(random_state=803643537),\n",
       " DecisionTreeClassifier(random_state=1254692651),\n",
       " DecisionTreeClassifier(random_state=2110998686),\n",
       " DecisionTreeClassifier(random_state=169260570),\n",
       " DecisionTreeClassifier(random_state=1113025921),\n",
       " DecisionTreeClassifier(random_state=1212617349),\n",
       " DecisionTreeClassifier(random_state=171457250),\n",
       " DecisionTreeClassifier(random_state=478068692),\n",
       " DecisionTreeClassifier(random_state=924519212),\n",
       " DecisionTreeClassifier(random_state=733466383),\n",
       " DecisionTreeClassifier(random_state=1672275314),\n",
       " DecisionTreeClassifier(random_state=238185900),\n",
       " DecisionTreeClassifier(random_state=1536103009),\n",
       " DecisionTreeClassifier(random_state=689675985),\n",
       " DecisionTreeClassifier(random_state=1907793030),\n",
       " DecisionTreeClassifier(random_state=382225545),\n",
       " DecisionTreeClassifier(random_state=1644972390),\n",
       " DecisionTreeClassifier(random_state=847339331),\n",
       " DecisionTreeClassifier(random_state=1626851145),\n",
       " DecisionTreeClassifier(random_state=2011798348),\n",
       " DecisionTreeClassifier(random_state=2037082241),\n",
       " DecisionTreeClassifier(random_state=1857215151),\n",
       " DecisionTreeClassifier(random_state=416378566),\n",
       " DecisionTreeClassifier(random_state=1971571535),\n",
       " DecisionTreeClassifier(random_state=1274175726),\n",
       " DecisionTreeClassifier(random_state=2136282860),\n",
       " DecisionTreeClassifier(random_state=1489155995),\n",
       " DecisionTreeClassifier(random_state=53921855),\n",
       " DecisionTreeClassifier(random_state=804108957),\n",
       " DecisionTreeClassifier(random_state=944403480),\n",
       " DecisionTreeClassifier(random_state=1332483768),\n",
       " DecisionTreeClassifier(random_state=1685797527),\n",
       " DecisionTreeClassifier(random_state=954553673),\n",
       " DecisionTreeClassifier(random_state=242740042),\n",
       " DecisionTreeClassifier(random_state=277182503),\n",
       " DecisionTreeClassifier(random_state=47259024),\n",
       " DecisionTreeClassifier(random_state=248138264),\n",
       " DecisionTreeClassifier(random_state=702422597),\n",
       " DecisionTreeClassifier(random_state=939207604),\n",
       " DecisionTreeClassifier(random_state=1529342700),\n",
       " DecisionTreeClassifier(random_state=1284390939),\n",
       " DecisionTreeClassifier(random_state=863052931),\n",
       " DecisionTreeClassifier(random_state=679550330),\n",
       " DecisionTreeClassifier(random_state=453847719),\n",
       " DecisionTreeClassifier(random_state=1881191122),\n",
       " DecisionTreeClassifier(random_state=1807201344),\n",
       " DecisionTreeClassifier(random_state=1127250893),\n",
       " DecisionTreeClassifier(random_state=1690499701),\n",
       " DecisionTreeClassifier(random_state=87023501),\n",
       " DecisionTreeClassifier(random_state=196785349),\n",
       " DecisionTreeClassifier(random_state=2146979218),\n",
       " DecisionTreeClassifier(random_state=227036993),\n",
       " DecisionTreeClassifier(random_state=6548784),\n",
       " DecisionTreeClassifier(random_state=401703767),\n",
       " DecisionTreeClassifier(random_state=1957637872),\n",
       " DecisionTreeClassifier(random_state=413734935),\n",
       " DecisionTreeClassifier(random_state=2077008103),\n",
       " DecisionTreeClassifier(random_state=721477487),\n",
       " DecisionTreeClassifier(random_state=632227614),\n",
       " DecisionTreeClassifier(random_state=903198017)]"
      ]
     },
     "execution_count": 65,
     "metadata": {},
     "output_type": "execute_result"
    }
   ],
   "source": [
    "#Feature Importance\n",
    "bt.estimators_"
   ]
  },
  {
   "cell_type": "code",
   "execution_count": 66,
   "metadata": {},
   "outputs": [
    {
     "data": {
      "text/plain": [
       "DecisionTreeClassifier(random_state=1859118377)"
      ]
     },
     "execution_count": 66,
     "metadata": {},
     "output_type": "execute_result"
    }
   ],
   "source": [
    "bt.estimators_[0]"
   ]
  },
  {
   "cell_type": "code",
   "execution_count": 67,
   "metadata": {},
   "outputs": [
    {
     "data": {
      "text/plain": [
       "array([0.02174449, 0.13823801, 0.26538887, 0.01267062, 0.01444093,\n",
       "       0.01374833, 0.00872071, 0.00891174, 0.00919263, 0.00087013,\n",
       "       0.00121082, 0.01469645, 0.0047926 , 0.01405296, 0.        ,\n",
       "       0.0609299 , 0.        , 0.03088423, 0.00123705, 0.00915221,\n",
       "       0.01380777, 0.0008247 , 0.01209381, 0.0101485 , 0.        ,\n",
       "       0.00624601, 0.00968621, 0.        , 0.02097902, 0.01115688,\n",
       "       0.        , 0.00841539, 0.01359824, 0.        , 0.01730636,\n",
       "       0.14495758, 0.00455846, 0.00079574, 0.00786327, 0.01710496,\n",
       "       0.01528424, 0.02143531, 0.01505522, 0.01779963])"
      ]
     },
     "execution_count": 67,
     "metadata": {},
     "output_type": "execute_result"
    }
   ],
   "source": [
    "bt.estimators_[0].feature_importances_"
   ]
  },
  {
   "cell_type": "code",
   "execution_count": 68,
   "metadata": {},
   "outputs": [],
   "source": [
    "# We can extract feature importance from each tree then take a mean for all trees\n",
    "imp=[]\n",
    "for i in bt.estimators_:\n",
    "    imp.append(i.feature_importances_)\n",
    "imp=np.mean(imp,axis=0)"
   ]
  },
  {
   "cell_type": "code",
   "execution_count": 69,
   "metadata": {},
   "outputs": [],
   "source": [
    "feature_importance2=pd.Series(imp,index=X.columns.tolist())"
   ]
  },
  {
   "cell_type": "code",
   "execution_count": 70,
   "metadata": {},
   "outputs": [
    {
     "data": {
      "text/plain": [
       "TotalCharges                               0.264855\n",
       "Contract_Month-to-month                    0.164315\n",
       "tenure                                     0.145231\n",
       "InternetService_Fiber optic                0.048268\n",
       "SeniorCitizen                              0.021603\n",
       "OnlineSecurity_No                          0.021332\n",
       "PaymentMethod_Electronic check             0.019720\n",
       "TechSupport_No                             0.018578\n",
       "gender_Female                              0.015740\n",
       "gender_Male                                0.015536\n",
       "PaymentMethod_Credit card (automatic)      0.015196\n",
       "PaperlessBilling_No                        0.014915\n",
       "PaperlessBilling_Yes                       0.013912\n",
       "PaymentMethod_Mailed check                 0.013110\n",
       "PaymentMethod_Bank transfer (automatic)    0.012683\n",
       "Partner_No                                 0.012551\n",
       "Partner_Yes                                0.012526\n",
       "MultipleLines_No                           0.012485\n",
       "OnlineBackup_No                            0.012312\n",
       "OnlineBackup_Yes                           0.012225\n",
       "Dependents_Yes                             0.011693\n",
       "StreamingMovies_Yes                        0.011628\n",
       "MultipleLines_Yes                          0.011283\n",
       "Dependents_No                              0.011019\n",
       "DeviceProtection_No                        0.010911\n",
       "DeviceProtection_Yes                       0.010857\n",
       "StreamingTV_No                             0.010429\n",
       "TechSupport_Yes                            0.010377\n",
       "StreamingTV_Yes                            0.010199\n",
       "StreamingMovies_No                         0.010165\n",
       "OnlineSecurity_Yes                         0.008757\n",
       "InternetService_DSL                        0.003215\n",
       "Contract_Two year                          0.002499\n",
       "Contract_One year                          0.002133\n",
       "PhoneService_Yes                           0.002107\n",
       "PhoneService_No                            0.002034\n",
       "MultipleLines_No phone service             0.001854\n",
       "TechSupport_No internet service            0.000406\n",
       "InternetService_No                         0.000366\n",
       "StreamingTV_No internet service            0.000237\n",
       "DeviceProtection_No internet service       0.000226\n",
       "OnlineSecurity_No internet service         0.000190\n",
       "StreamingMovies_No internet service        0.000164\n",
       "OnlineBackup_No internet service           0.000162\n",
       "dtype: float64"
      ]
     },
     "execution_count": 70,
     "metadata": {},
     "output_type": "execute_result"
    }
   ],
   "source": [
    "feature_importance2.sort_values(ascending= False)"
   ]
  },
  {
   "cell_type": "code",
   "execution_count": 71,
   "metadata": {},
   "outputs": [
    {
     "data": {
      "text/plain": [
       "<AxesSubplot:>"
      ]
     },
     "execution_count": 71,
     "metadata": {},
     "output_type": "execute_result"
    },
    {
     "data": {
      "image/png": "[encoded data removed]",
      "text/plain": [
       "<Figure size 432x288 with 1 Axes>"
      ]
     },
     "metadata": {
      "needs_background": "light"
     },
     "output_type": "display_data"
    }
   ],
   "source": [
    "feature_importance2.sort_values(ascending= False).plot(kind='bar')"
   ]
  },
  {
   "cell_type": "code",
   "execution_count": 72,
   "metadata": {},
   "outputs": [],
   "source": [
    "y_train_predicted1 = bt.predict(X_train)\n",
    "y_test_predicted1 = bt.predict(X_test)"
   ]
  },
  {
   "cell_type": "code",
   "execution_count": 73,
   "metadata": {},
   "outputs": [
    {
     "name": "stdout",
     "output_type": "stream",
     "text": [
      "              precision    recall  f1-score   support\n",
      "\n",
      "           0       1.00      1.00      1.00      3104\n",
      "           1       1.00      1.00      1.00      1121\n",
      "\n",
      "    accuracy                           1.00      4225\n",
      "   macro avg       1.00      1.00      1.00      4225\n",
      "weighted avg       1.00      1.00      1.00      4225\n",
      "\n"
     ]
    }
   ],
   "source": [
    "print(classification_report(y_train, y_train_predicted1))"
   ]
  },
  {
   "cell_type": "code",
   "execution_count": 74,
   "metadata": {},
   "outputs": [
    {
     "name": "stdout",
     "output_type": "stream",
     "text": [
      "              precision    recall  f1-score   support\n",
      "\n",
      "           0       0.83      0.89      0.86       776\n",
      "           1       0.62      0.51      0.56       281\n",
      "\n",
      "    accuracy                           0.79      1057\n",
      "   macro avg       0.73      0.70      0.71      1057\n",
      "weighted avg       0.78      0.79      0.78      1057\n",
      "\n"
     ]
    }
   ],
   "source": [
    "print(classification_report(y_test, y_test_predicted1))"
   ]
  },
  {
   "cell_type": "markdown",
   "metadata": {},
   "source": [
    "# XG Boost"
   ]
  },
  {
   "cell_type": "code",
   "execution_count": 75,
   "metadata": {},
   "outputs": [],
   "source": [
    "from sklearn.ensemble import GradientBoostingClassifier\n",
    "import xgboost as xgb"
   ]
  },
  {
   "cell_type": "code",
   "execution_count": 76,
   "metadata": {},
   "outputs": [],
   "source": [
    "clf_xgb= xgb.XGBClassifier(objective='binary:logistic', seed=42, booster= 'gbtree')"
   ]
  },
  {
   "cell_type": "code",
   "execution_count": 77,
   "metadata": {},
   "outputs": [],
   "source": [
    "## Hyper Parameter Optimization\n",
    "\n",
    "params={\n",
    "  \"subsample\"            : [ 0.4,0.5, 0.6,0.7,0.8,0.9,1.0 ],\n",
    " \"min_child_weight\" : [  5,6,7,8,9,10,11,12 ],\n",
    "    \"max_depth\"        : [ 1,2,3, 4, 5, 6, 8, 10,],\n",
    " \"learning_rate\"    : [ 0.01,0.03,0.05,0.10,0.15, 0.20 ] ,\n",
    " \"gamma\"            : [0.3, 0.4, 0.5, 0.6,0.7,0.8,0.9 ],\n",
    "\"eta\"            : [ 0.1,0.2 , 0.3, 0.4, 0.5, 0.6,0.7,0.8 ],\n",
    " \"colsample_bytree\" : [ 0.13,0.15,0.17,0.19,0.21,0.23,0.24,0.25,0.26 ]   \n",
    "}"
   ]
  },
  {
   "cell_type": "code",
   "execution_count": 78,
   "metadata": {},
   "outputs": [],
   "source": [
    "## Hyperparameter optimization using RandomizedSearchCV\n",
    "from sklearn.model_selection import RandomizedSearchCV, GridSearchCV\n",
    "random_search=RandomizedSearchCV(clf_xgb,param_distributions=params,n_iter=5,scoring='roc_auc',n_jobs=-1,verbose=3)"
   ]
  },
  {
   "cell_type": "code",
   "execution_count": 79,
   "metadata": {},
   "outputs": [
    {
     "name": "stdout",
     "output_type": "stream",
     "text": [
      "Fitting 5 folds for each of 5 candidates, totalling 25 fits\n"
     ]
    }
   ],
   "source": [
    "random_search= random_search.fit(X_train,y_train)"
   ]
  },
  {
   "cell_type": "code",
   "execution_count": 80,
   "metadata": {},
   "outputs": [
    {
     "data": {
      "text/plain": [
       "{'subsample': 0.7,\n",
       " 'min_child_weight': 8,\n",
       " 'max_depth': 8,\n",
       " 'learning_rate': 0.05,\n",
       " 'gamma': 0.5,\n",
       " 'eta': 0.5,\n",
       " 'colsample_bytree': 0.21}"
      ]
     },
     "execution_count": 80,
     "metadata": {},
     "output_type": "execute_result"
    }
   ],
   "source": [
    "random_search.best_params_"
   ]
  },
  {
   "cell_type": "code",
   "execution_count": 81,
   "metadata": {},
   "outputs": [
    {
     "data": {
      "text/plain": [
       "XGBClassifier(base_score=None, booster='gbtree', callbacks=None,\n",
       "              colsample_bylevel=None, colsample_bynode=None,\n",
       "              colsample_bytree=0.21, early_stopping_rounds=None,\n",
       "              enable_categorical=False, eta=0.5, eval_metric=None,\n",
       "              feature_types=None, gamma=0.5, gpu_id=None, grow_policy=None,\n",
       "              importance_type=None, interaction_constraints=None,\n",
       "              learning_rate=0.05, max_bin=None, max_cat_threshold=None,\n",
       "              max_cat_to_onehot=None, max_delta_step=None, max_depth=8,\n",
       "              max_leaves=None, min_child_weight=8, missing=nan,\n",
       "              monotone_constraints=None, n_estimators=100, n_jobs=None,\n",
       "              num_parallel_tree=None, predictor=None, ...)"
      ]
     },
     "execution_count": 81,
     "metadata": {},
     "output_type": "execute_result"
    }
   ],
   "source": [
    "random_search.best_estimator_"
   ]
  },
  {
   "cell_type": "code",
   "execution_count": 82,
   "metadata": {},
   "outputs": [],
   "source": [
    "xgb=xgb.XGBClassifier(min_child_weight=8,max_depth= 2,learning_rate= 0.15,gamma= 0.5,colsample_bytree= 0.19, eta=0.5, subsample= 1.0, booster='gbtree',random_state=42)"
   ]
  },
  {
   "cell_type": "code",
   "execution_count": 83,
   "metadata": {},
   "outputs": [
    {
     "data": {
      "text/plain": [
       "array([0.79245283, 0.79245283, 0.82075472, 0.78301887, 0.83962264,\n",
       "       0.83018868, 0.82075472, 0.77142857, 0.79047619, 0.84761905])"
      ]
     },
     "execution_count": 83,
     "metadata": {},
     "output_type": "execute_result"
    }
   ],
   "source": [
    "from sklearn.model_selection import cross_val_score\n",
    "score=cross_val_score(xgb,X_test,y_test,cv=10)\n",
    "score"
   ]
  },
  {
   "cell_type": "code",
   "execution_count": 84,
   "metadata": {},
   "outputs": [
    {
     "data": {
      "text/plain": [
       "0.8088769092542678"
      ]
     },
     "execution_count": 84,
     "metadata": {},
     "output_type": "execute_result"
    }
   ],
   "source": [
    "xgboost_score = score.mean()\n",
    "xgboost_score"
   ]
  },
  {
   "cell_type": "code",
   "execution_count": 85,
   "metadata": {},
   "outputs": [
    {
     "name": "stdout",
     "output_type": "stream",
     "text": [
      "[0]\tvalidation_0-aucpr:0.49685\n",
      "[1]\tvalidation_0-aucpr:0.52285\n",
      "[2]\tvalidation_0-aucpr:0.57172\n",
      "[3]\tvalidation_0-aucpr:0.57168\n",
      "[4]\tvalidation_0-aucpr:0.58879\n",
      "[5]\tvalidation_0-aucpr:0.58924\n",
      "[6]\tvalidation_0-aucpr:0.60628\n",
      "[7]\tvalidation_0-aucpr:0.61176\n",
      "[8]\tvalidation_0-aucpr:0.62617\n"
     ]
    },
    {
     "name": "stderr",
     "output_type": "stream",
     "text": [
      "C:\\Anaconda3\\lib\\site-packages\\xgboost\\sklearn.py:835: UserWarning: `eval_metric` in `fit` method is deprecated for better compatibility with scikit-learn, use `eval_metric` in constructor or`set_params` instead.\n",
      "  warnings.warn(\n",
      "C:\\Anaconda3\\lib\\site-packages\\xgboost\\sklearn.py:835: UserWarning: `early_stopping_rounds` in `fit` method is deprecated for better compatibility with scikit-learn, use `early_stopping_rounds` in constructor or`set_params` instead.\n",
      "  warnings.warn(\n"
     ]
    },
    {
     "name": "stdout",
     "output_type": "stream",
     "text": [
      "[9]\tvalidation_0-aucpr:0.63043\n",
      "[10]\tvalidation_0-aucpr:0.63894\n",
      "[11]\tvalidation_0-aucpr:0.64835\n",
      "[12]\tvalidation_0-aucpr:0.64995\n",
      "[13]\tvalidation_0-aucpr:0.64896\n",
      "[14]\tvalidation_0-aucpr:0.64833\n",
      "[15]\tvalidation_0-aucpr:0.64744\n",
      "[16]\tvalidation_0-aucpr:0.64654\n",
      "[17]\tvalidation_0-aucpr:0.64783\n",
      "[18]\tvalidation_0-aucpr:0.64921\n",
      "[19]\tvalidation_0-aucpr:0.64910\n",
      "[20]\tvalidation_0-aucpr:0.64866\n",
      "[21]\tvalidation_0-aucpr:0.64897\n",
      "[22]\tvalidation_0-aucpr:0.65113\n",
      "[23]\tvalidation_0-aucpr:0.65072\n",
      "[24]\tvalidation_0-aucpr:0.65180\n",
      "[25]\tvalidation_0-aucpr:0.65258\n",
      "[26]\tvalidation_0-aucpr:0.65515\n",
      "[27]\tvalidation_0-aucpr:0.65941\n",
      "[28]\tvalidation_0-aucpr:0.66048\n",
      "[29]\tvalidation_0-aucpr:0.66273\n",
      "[30]\tvalidation_0-aucpr:0.66640\n",
      "[31]\tvalidation_0-aucpr:0.66547\n",
      "[32]\tvalidation_0-aucpr:0.66541\n",
      "[33]\tvalidation_0-aucpr:0.66742\n",
      "[34]\tvalidation_0-aucpr:0.66810\n",
      "[35]\tvalidation_0-aucpr:0.66826\n",
      "[36]\tvalidation_0-aucpr:0.67150\n",
      "[37]\tvalidation_0-aucpr:0.67300\n",
      "[38]\tvalidation_0-aucpr:0.67521\n",
      "[39]\tvalidation_0-aucpr:0.67722\n",
      "[40]\tvalidation_0-aucpr:0.67708\n",
      "[41]\tvalidation_0-aucpr:0.67712\n",
      "[42]\tvalidation_0-aucpr:0.67855\n",
      "[43]\tvalidation_0-aucpr:0.67886\n",
      "[44]\tvalidation_0-aucpr:0.67990\n",
      "[45]\tvalidation_0-aucpr:0.68030\n",
      "[46]\tvalidation_0-aucpr:0.68065\n",
      "[47]\tvalidation_0-aucpr:0.68229\n",
      "[48]\tvalidation_0-aucpr:0.68310\n",
      "[49]\tvalidation_0-aucpr:0.68385\n",
      "[50]\tvalidation_0-aucpr:0.68463\n",
      "[51]\tvalidation_0-aucpr:0.68438\n",
      "[52]\tvalidation_0-aucpr:0.68414\n",
      "[53]\tvalidation_0-aucpr:0.68454\n",
      "[54]\tvalidation_0-aucpr:0.68574\n",
      "[55]\tvalidation_0-aucpr:0.68596\n",
      "[56]\tvalidation_0-aucpr:0.68568\n",
      "[57]\tvalidation_0-aucpr:0.68620\n",
      "[58]\tvalidation_0-aucpr:0.68534\n",
      "[59]\tvalidation_0-aucpr:0.68447\n",
      "[60]\tvalidation_0-aucpr:0.68545\n",
      "[61]\tvalidation_0-aucpr:0.68580\n",
      "[62]\tvalidation_0-aucpr:0.68589\n",
      "[63]\tvalidation_0-aucpr:0.68650\n",
      "[64]\tvalidation_0-aucpr:0.68657\n",
      "[65]\tvalidation_0-aucpr:0.68711\n",
      "[66]\tvalidation_0-aucpr:0.68740\n",
      "[67]\tvalidation_0-aucpr:0.68847\n",
      "[68]\tvalidation_0-aucpr:0.68864\n",
      "[69]\tvalidation_0-aucpr:0.68853\n",
      "[70]\tvalidation_0-aucpr:0.68841\n",
      "[71]\tvalidation_0-aucpr:0.68862\n",
      "[72]\tvalidation_0-aucpr:0.68882\n",
      "[73]\tvalidation_0-aucpr:0.68949\n",
      "[74]\tvalidation_0-aucpr:0.68980\n",
      "[75]\tvalidation_0-aucpr:0.68979\n",
      "[76]\tvalidation_0-aucpr:0.68976\n",
      "[77]\tvalidation_0-aucpr:0.68965\n",
      "[78]\tvalidation_0-aucpr:0.69076\n",
      "[79]\tvalidation_0-aucpr:0.69108\n",
      "[80]\tvalidation_0-aucpr:0.69108\n",
      "[81]\tvalidation_0-aucpr:0.69092\n",
      "[82]\tvalidation_0-aucpr:0.68922\n",
      "[83]\tvalidation_0-aucpr:0.68935\n",
      "[84]\tvalidation_0-aucpr:0.69086\n",
      "[85]\tvalidation_0-aucpr:0.69098\n",
      "[86]\tvalidation_0-aucpr:0.69130\n",
      "[87]\tvalidation_0-aucpr:0.69163\n",
      "[88]\tvalidation_0-aucpr:0.69211\n",
      "[89]\tvalidation_0-aucpr:0.69257\n",
      "[90]\tvalidation_0-aucpr:0.69257\n",
      "[91]\tvalidation_0-aucpr:0.69322\n",
      "[92]\tvalidation_0-aucpr:0.69327\n",
      "[93]\tvalidation_0-aucpr:0.69286\n",
      "[94]\tvalidation_0-aucpr:0.69303\n",
      "[95]\tvalidation_0-aucpr:0.69292\n",
      "[96]\tvalidation_0-aucpr:0.69293\n",
      "[97]\tvalidation_0-aucpr:0.69319\n",
      "[98]\tvalidation_0-aucpr:0.69319\n",
      "[99]\tvalidation_0-aucpr:0.69319\n"
     ]
    },
    {
     "data": {
      "text/plain": [
       "XGBClassifier(base_score=None, booster='gbtree', callbacks=None,\n",
       "              colsample_bylevel=None, colsample_bynode=None,\n",
       "              colsample_bytree=0.19, early_stopping_rounds=None,\n",
       "              enable_categorical=False, eta=0.5, eval_metric=None,\n",
       "              feature_types=None, gamma=0.5, gpu_id=None, grow_policy=None,\n",
       "              importance_type=None, interaction_constraints=None,\n",
       "              learning_rate=0.15, max_bin=None, max_cat_threshold=None,\n",
       "              max_cat_to_onehot=None, max_delta_step=None, max_depth=2,\n",
       "              max_leaves=None, min_child_weight=8, missing=nan,\n",
       "              monotone_constraints=None, n_estimators=100, n_jobs=None,\n",
       "              num_parallel_tree=None, predictor=None, ...)"
      ]
     },
     "execution_count": 85,
     "metadata": {},
     "output_type": "execute_result"
    }
   ],
   "source": [
    "xgb.fit(X_train,y_train, verbose= True, eval_metric=\"aucpr\",early_stopping_rounds=10,eval_set=[(X_test,y_test)])"
   ]
  },
  {
   "cell_type": "code",
   "execution_count": 86,
   "metadata": {},
   "outputs": [
    {
     "data": {
      "text/plain": [
       "array([0.00447633, 0.02530356, 0.02144946, 0.00358626, 0.00385345,\n",
       "       0.01042398, 0.00647386, 0.01702471, 0.00548041, 0.00229302,\n",
       "       0.        , 0.00398962, 0.        , 0.00395514, 0.0253021 ,\n",
       "       0.04144935, 0.04106131, 0.23235235, 0.03163127, 0.00368491,\n",
       "       0.06478876, 0.04333514, 0.01284537, 0.        , 0.00361208,\n",
       "       0.00143589, 0.07395475, 0.        , 0.02286033, 0.00363533,\n",
       "       0.        , 0.00510194, 0.00336035, 0.        , 0.00557672,\n",
       "       0.06820352, 0.02017486, 0.04922627, 0.03012194, 0.00296665,\n",
       "       0.00357183, 0.00166296, 0.09843595, 0.00133823], dtype=float32)"
      ]
     },
     "execution_count": 86,
     "metadata": {},
     "output_type": "execute_result"
    }
   ],
   "source": [
    "xgb.feature_importances_"
   ]
  },
  {
   "cell_type": "code",
   "execution_count": 87,
   "metadata": {},
   "outputs": [
    {
     "data": {
      "text/plain": [
       "OnlineSecurity_No                          0.232352\n",
       "PaymentMethod_Electronic check             0.098436\n",
       "TechSupport_No                             0.073955\n",
       "Contract_Month-to-month                    0.068204\n",
       "OnlineBackup_No                            0.064789\n",
       "Contract_Two year                          0.049226\n",
       "OnlineBackup_No internet service           0.043335\n",
       "InternetService_Fiber optic                0.041449\n",
       "InternetService_No                         0.041061\n",
       "OnlineSecurity_No internet service         0.031631\n",
       "PaperlessBilling_No                        0.030122\n",
       "tenure                                     0.025304\n",
       "InternetService_DSL                        0.025302\n",
       "TechSupport_Yes                            0.022860\n",
       "TotalCharges                               0.021449\n",
       "Contract_One year                          0.020175\n",
       "Dependents_No                              0.017025\n",
       "OnlineBackup_Yes                           0.012845\n",
       "Partner_No                                 0.010424\n",
       "Partner_Yes                                0.006474\n",
       "StreamingMovies_Yes                        0.005577\n",
       "Dependents_Yes                             0.005480\n",
       "StreamingTV_Yes                            0.005102\n",
       "SeniorCitizen                              0.004476\n",
       "MultipleLines_No                           0.003990\n",
       "MultipleLines_Yes                          0.003955\n",
       "gender_Male                                0.003853\n",
       "OnlineSecurity_Yes                         0.003685\n",
       "StreamingTV_No                             0.003635\n",
       "DeviceProtection_No internet service       0.003612\n",
       "gender_Female                              0.003586\n",
       "PaymentMethod_Bank transfer (automatic)    0.003572\n",
       "StreamingMovies_No                         0.003360\n",
       "PaperlessBilling_Yes                       0.002967\n",
       "PhoneService_No                            0.002293\n",
       "PaymentMethod_Credit card (automatic)      0.001663\n",
       "DeviceProtection_Yes                       0.001436\n",
       "PaymentMethod_Mailed check                 0.001338\n",
       "PhoneService_Yes                           0.000000\n",
       "StreamingMovies_No internet service        0.000000\n",
       "StreamingTV_No internet service            0.000000\n",
       "TechSupport_No internet service            0.000000\n",
       "DeviceProtection_No                        0.000000\n",
       "MultipleLines_No phone service             0.000000\n",
       "dtype: float32"
      ]
     },
     "execution_count": 87,
     "metadata": {},
     "output_type": "execute_result"
    }
   ],
   "source": [
    "feature_imp3= pd.Series(xgb.feature_importances_,index=X.columns)\n",
    "feature_imp3.sort_values(ascending= False)"
   ]
  },
  {
   "cell_type": "code",
   "execution_count": 88,
   "metadata": {},
   "outputs": [
    {
     "data": {
      "text/plain": [
       "<AxesSubplot:>"
      ]
     },
     "execution_count": 88,
     "metadata": {},
     "output_type": "execute_result"
    },
    {
     "data": {
      "image/png": "[encoded data removed]",
      "text/plain": [
       "<Figure size 432x288 with 1 Axes>"
      ]
     },
     "metadata": {
      "needs_background": "light"
     },
     "output_type": "display_data"
    }
   ],
   "source": [
    "feature_imp3.sort_values(ascending= False).plot(kind='bar')"
   ]
  },
  {
   "cell_type": "code",
   "execution_count": 89,
   "metadata": {},
   "outputs": [],
   "source": [
    "y_train_predicted2 = xgb.predict(X_train)\n",
    "y_test_predicted2 = xgb.predict(X_test)"
   ]
  },
  {
   "cell_type": "code",
   "execution_count": 90,
   "metadata": {},
   "outputs": [
    {
     "name": "stdout",
     "output_type": "stream",
     "text": [
      "              precision    recall  f1-score   support\n",
      "\n",
      "           0       0.84      0.91      0.88      3104\n",
      "           1       0.69      0.53      0.60      1121\n",
      "\n",
      "    accuracy                           0.81      4225\n",
      "   macro avg       0.77      0.72      0.74      4225\n",
      "weighted avg       0.80      0.81      0.80      4225\n",
      "\n"
     ]
    }
   ],
   "source": [
    "print(classification_report(y_train, y_train_predicted2))"
   ]
  },
  {
   "cell_type": "code",
   "execution_count": 91,
   "metadata": {},
   "outputs": [
    {
     "name": "stdout",
     "output_type": "stream",
     "text": [
      "              precision    recall  f1-score   support\n",
      "\n",
      "           0       0.85      0.90      0.87       776\n",
      "           1       0.68      0.55      0.61       281\n",
      "\n",
      "    accuracy                           0.81      1057\n",
      "   macro avg       0.76      0.73      0.74      1057\n",
      "weighted avg       0.80      0.81      0.80      1057\n",
      "\n"
     ]
    }
   ],
   "source": [
    "print(classification_report(y_test, y_test_predicted2))"
   ]
  },
  {
   "cell_type": "markdown",
   "metadata": {},
   "source": [
    "# Decision Tree"
   ]
  },
  {
   "cell_type": "code",
   "execution_count": 92,
   "metadata": {},
   "outputs": [],
   "source": [
    "#dt= DecisionTreeClassifier(oob_score=True,n_jobs=-1,n_estimators=20,random_state=400,base_estimator=DecisionTreeClassifier())\n",
    "dt = DecisionTreeClassifier(random_state = 42)"
   ]
  },
  {
   "cell_type": "code",
   "execution_count": 93,
   "metadata": {},
   "outputs": [
    {
     "data": {
      "text/plain": [
       "44"
      ]
     },
     "execution_count": 93,
     "metadata": {},
     "output_type": "execute_result"
    }
   ],
   "source": [
    "dt.fit(X_train, y_train)\n",
    "dt.max_features_"
   ]
  },
  {
   "cell_type": "code",
   "execution_count": 95,
   "metadata": {},
   "outputs": [
    {
     "data": {
      "text/plain": [
       "0.9983431952662722"
      ]
     },
     "execution_count": 95,
     "metadata": {},
     "output_type": "execute_result"
    }
   ],
   "source": [
    "dt.score(X_train, y_train)"
   ]
  },
  {
   "cell_type": "code",
   "execution_count": 105,
   "metadata": {},
   "outputs": [],
   "source": [
    "# Create Parameter grid\n",
    "dt_param_grid = {\n",
    "    'criterion' : ['gini', 'entropy'],\n",
    "    'max_depth' : [3,4,5,6,7,8,9,10]\n",
    "}"
   ]
  },
  {
   "cell_type": "code",
   "execution_count": 106,
   "metadata": {},
   "outputs": [],
   "source": [
    "#Initiate GridSearch CV\n",
    "gs_dt = GridSearchCV(dt, param_grid = dt_param_grid, scoring = 'accuracy')"
   ]
  },
  {
   "cell_type": "code",
   "execution_count": 107,
   "metadata": {},
   "outputs": [
    {
     "data": {
      "text/plain": [
       "GridSearchCV(estimator=DecisionTreeClassifier(random_state=42),\n",
       "             param_grid={'criterion': ['gini', 'entropy'],\n",
       "                         'max_depth': [3, 4, 5, 6, 7, 8, 9, 10]},\n",
       "             scoring='accuracy')"
      ]
     },
     "execution_count": 107,
     "metadata": {},
     "output_type": "execute_result"
    }
   ],
   "source": [
    "gs_dt.fit(X_train,y_train)"
   ]
  },
  {
   "cell_type": "code",
   "execution_count": 109,
   "metadata": {},
   "outputs": [
    {
     "data": {
      "text/plain": [
       "DecisionTreeClassifier(max_depth=4, random_state=42)"
      ]
     },
     "execution_count": 109,
     "metadata": {},
     "output_type": "execute_result"
    }
   ],
   "source": [
    "gs_dt.best_estimator_"
   ]
  },
  {
   "cell_type": "code",
   "execution_count": 110,
   "metadata": {},
   "outputs": [],
   "source": [
    "best_dt_estimates = gs_dt.best_estimator_"
   ]
  },
  {
   "cell_type": "code",
   "execution_count": 111,
   "metadata": {},
   "outputs": [
    {
     "data": {
      "text/plain": [
       "DecisionTreeClassifier(max_depth=4, random_state=42)"
      ]
     },
     "execution_count": 111,
     "metadata": {},
     "output_type": "execute_result"
    }
   ],
   "source": [
    "best_dt_estimates.fit(X_train, y_train)"
   ]
  },
  {
   "cell_type": "code",
   "execution_count": 112,
   "metadata": {},
   "outputs": [],
   "source": [
    "y_train_predicted3 = best_dt_estimates.predict(X_train)\n",
    "y_test_predicted3 = best_dt_estimates.predict(X_test)"
   ]
  },
  {
   "cell_type": "code",
   "execution_count": 113,
   "metadata": {},
   "outputs": [
    {
     "name": "stdout",
     "output_type": "stream",
     "text": [
      "Accuracy score decision-trees max_depth=4 : 0.7871\n"
     ]
    }
   ],
   "source": [
    "print('Accuracy score decision-trees max_depth=4 : {0:0.4f}'. format(accuracy_score(y_test, y_test_predicted3)))"
   ]
  },
  {
   "cell_type": "code",
   "execution_count": 267,
   "metadata": {},
   "outputs": [
    {
     "name": "stdout",
     "output_type": "stream",
     "text": [
      "              precision    recall  f1-score   support\n",
      "\n",
      "           0       0.83      0.91      0.87      3104\n",
      "           1       0.67      0.47      0.55      1121\n",
      "\n",
      "    accuracy                           0.80      4225\n",
      "   macro avg       0.75      0.69      0.71      4225\n",
      "weighted avg       0.79      0.80      0.79      4225\n",
      "\n"
     ]
    }
   ],
   "source": [
    "print(classification_report(y_train, y_train_predicted3))"
   ]
  },
  {
   "cell_type": "code",
   "execution_count": 268,
   "metadata": {},
   "outputs": [
    {
     "name": "stdout",
     "output_type": "stream",
     "text": [
      "              precision    recall  f1-score   support\n",
      "\n",
      "           0       0.83      0.90      0.86       776\n",
      "           1       0.63      0.49      0.55       281\n",
      "\n",
      "    accuracy                           0.79      1057\n",
      "   macro avg       0.73      0.69      0.70      1057\n",
      "weighted avg       0.78      0.79      0.78      1057\n",
      "\n"
     ]
    }
   ],
   "source": [
    "print(classification_report(y_test, y_test_predicted3))"
   ]
  },
  {
   "cell_type": "code",
   "execution_count": 124,
   "metadata": {},
   "outputs": [
    {
     "data": {
      "text/plain": [
       "array([0.00000000e+00, 3.94477318e-05, 4.73372781e-05, 6.31163708e-05,\n",
       "       7.10059172e-05, 7.88954635e-05, 7.88954635e-05, 7.88954635e-05,\n",
       "       7.88954635e-05, 7.88954635e-05, 1.09239873e-04, 1.16652578e-04,\n",
       "       1.36175732e-04, 1.38067061e-04, 1.40258602e-04, 1.42011834e-04,\n",
       "       1.43446297e-04, 1.43446297e-04, 1.48509108e-04, 1.51479290e-04,\n",
       "       1.53407846e-04, 1.53407846e-04, 1.53745006e-04, 1.54433673e-04,\n",
       "       1.56878841e-04, 1.57790927e-04, 1.57790927e-04, 1.57790927e-04,\n",
       "       1.57790927e-04, 1.57790927e-04, 1.57790927e-04, 1.57790927e-04,\n",
       "       1.57790927e-04, 1.57790927e-04, 1.57790927e-04, 1.71315864e-04,\n",
       "       1.71597633e-04, 1.73260626e-04, 1.77514793e-04, 1.77514793e-04,\n",
       "       1.77514793e-04, 1.77514793e-04, 1.77514793e-04, 1.77514793e-04,\n",
       "       1.77514793e-04, 1.77514793e-04, 1.77514793e-04, 1.77514793e-04,\n",
       "       1.78829717e-04, 1.80332488e-04, 1.83522986e-04, 1.84089415e-04,\n",
       "       1.85804534e-04, 1.88472496e-04, 1.89072407e-04, 1.89349112e-04,\n",
       "       1.89349112e-04, 1.89349112e-04, 1.89349112e-04, 1.89349112e-04,\n",
       "       1.89349112e-04, 1.92405142e-04, 1.97238659e-04, 1.97238659e-04,\n",
       "       1.97238659e-04, 1.97238659e-04, 1.97238659e-04, 1.97238659e-04,\n",
       "       1.97238659e-04, 1.97238659e-04, 2.02429150e-04, 2.02874049e-04,\n",
       "       2.02874049e-04, 2.02874049e-04, 2.02874049e-04, 2.02874049e-04,\n",
       "       2.02874049e-04, 2.02874049e-04, 2.02874049e-04, 2.02874049e-04,\n",
       "       2.02874049e-04, 2.02874049e-04, 2.07100592e-04, 2.07100592e-04,\n",
       "       2.07100592e-04, 2.07100592e-04, 2.07100592e-04, 2.07100592e-04,\n",
       "       2.07100592e-04, 2.07100592e-04, 2.07100592e-04, 2.08840933e-04,\n",
       "       2.10387903e-04, 2.10387903e-04, 2.13017751e-04, 2.13017751e-04,\n",
       "       2.13017751e-04, 2.13017751e-04, 2.14144830e-04, 2.14614445e-04,\n",
       "       2.15169446e-04, 2.15169446e-04, 2.15169446e-04, 2.16398986e-04,\n",
       "       2.16962525e-04, 2.16962525e-04, 2.16962525e-04, 2.18479745e-04,\n",
       "       2.19780220e-04, 2.19780220e-04, 2.20907298e-04, 2.21893491e-04,\n",
       "       2.22763662e-04, 2.23161454e-04, 2.23161454e-04, 2.23537147e-04,\n",
       "       2.24229212e-04, 2.25415610e-04, 2.25415610e-04, 2.25677721e-04,\n",
       "       2.25927918e-04, 2.27920228e-04, 2.28796844e-04, 2.28926181e-04,\n",
       "       2.29051346e-04, 2.30189117e-04, 2.30617509e-04, 2.31421101e-04,\n",
       "       2.31856056e-04, 2.33965857e-04, 2.36686391e-04, 2.36686391e-04,\n",
       "       2.36686391e-04, 2.36686391e-04, 2.39800685e-04, 2.40309175e-04,\n",
       "       2.42065627e-04, 2.46548323e-04, 2.47444863e-04, 2.47957171e-04,\n",
       "       2.47957171e-04, 2.47957171e-04, 2.48520710e-04, 2.49725983e-04,\n",
       "       2.52465483e-04, 2.52465483e-04, 2.52465483e-04, 2.52465483e-04,\n",
       "       2.52465483e-04, 2.52465483e-04, 2.52465483e-04, 2.53592561e-04,\n",
       "       2.56973795e-04, 2.57012001e-04, 2.60355030e-04, 2.60892953e-04,\n",
       "       2.62984878e-04, 2.63074177e-04, 2.63380344e-04, 2.63688046e-04,\n",
       "       2.67637688e-04, 2.70157193e-04, 2.70498732e-04, 2.70498732e-04,\n",
       "       2.70498732e-04, 2.70498732e-04, 2.71830733e-04, 2.72752888e-04,\n",
       "       2.75416891e-04, 2.76421898e-04, 2.78951817e-04, 2.80286515e-04,\n",
       "       2.81154743e-04, 2.84023669e-04, 2.84023669e-04, 2.84023669e-04,\n",
       "       2.84023669e-04, 2.84023669e-04, 2.84449573e-04, 2.88696346e-04,\n",
       "       2.88887224e-04, 2.95188568e-04, 2.96161432e-04, 2.97086214e-04,\n",
       "       2.99301838e-04, 3.04106150e-04, 3.04311074e-04, 3.04311074e-04,\n",
       "       3.05719921e-04, 3.07573787e-04, 3.09306079e-04, 3.09664694e-04,\n",
       "       3.09980618e-04, 3.15581854e-04, 3.15581854e-04, 3.15581854e-04,\n",
       "       3.15581854e-04, 3.15581854e-04, 3.15581854e-04, 3.15581854e-04,\n",
       "       3.15581854e-04, 3.15581854e-04, 3.15581854e-04, 3.15581854e-04,\n",
       "       3.15581854e-04, 3.15581854e-04, 3.15581854e-04, 3.15581854e-04,\n",
       "       3.15581854e-04, 3.16750676e-04, 3.18126869e-04, 3.18957061e-04,\n",
       "       3.19526627e-04, 3.21551547e-04, 3.22156476e-04, 3.22156476e-04,\n",
       "       3.24031503e-04, 3.24409318e-04, 3.24409318e-04, 3.24598478e-04,\n",
       "       3.31228349e-04, 3.31975717e-04, 3.35305720e-04, 3.36667156e-04,\n",
       "       3.39915102e-04, 3.43195266e-04, 3.46134509e-04, 3.46263423e-04,\n",
       "       3.48267117e-04, 3.48574502e-04, 3.48607605e-04, 3.49614066e-04,\n",
       "       3.50781369e-04, 3.53451677e-04, 3.53820460e-04, 3.54571314e-04,\n",
       "       3.55029586e-04, 3.55029586e-04, 3.55029586e-04, 3.55029586e-04,\n",
       "       3.55029586e-04, 3.55029586e-04, 3.55029586e-04, 3.55029586e-04,\n",
       "       3.55029586e-04, 3.55029586e-04, 3.56156664e-04, 3.59582388e-04,\n",
       "       3.60188708e-04, 3.60664976e-04, 3.60664976e-04, 3.63670518e-04,\n",
       "       3.64132909e-04, 3.64891519e-04, 3.64960483e-04, 3.65172084e-04,\n",
       "       3.65173288e-04, 3.65236342e-04, 3.70386621e-04, 3.71639157e-04,\n",
       "       3.73843119e-04, 3.74536706e-04, 3.75384615e-04, 3.75692683e-04,\n",
       "       3.78086632e-04, 3.78698225e-04, 3.78698225e-04, 3.78698225e-04,\n",
       "       3.78698225e-04, 3.80087579e-04, 3.81328074e-04, 3.87454702e-04,\n",
       "       3.90300499e-04, 3.90371898e-04, 3.91608392e-04, 3.92262338e-04,\n",
       "       3.94307907e-04, 3.94477318e-04, 3.94477318e-04, 3.94477318e-04,\n",
       "       3.94477318e-04, 3.95513664e-04, 3.96024287e-04, 4.05748098e-04,\n",
       "       4.05748098e-04, 4.05748098e-04, 4.05748098e-04, 4.05748098e-04,\n",
       "       4.06039258e-04, 4.20775805e-04, 4.22078517e-04, 4.22654269e-04,\n",
       "       4.25416715e-04, 4.27010335e-04, 4.30019768e-04, 4.33925049e-04,\n",
       "       4.33925049e-04, 4.42634289e-04, 4.43041122e-04, 4.43786982e-04,\n",
       "       4.56466610e-04, 4.60204153e-04, 4.70960895e-04, 4.76190476e-04,\n",
       "       4.77631602e-04, 4.82065069e-04, 4.91863166e-04, 4.93559855e-04,\n",
       "       4.95356037e-04, 5.01659579e-04, 5.04930966e-04, 5.20126731e-04,\n",
       "       5.22861754e-04, 5.30177515e-04, 5.32544379e-04, 5.33483610e-04,\n",
       "       5.33940975e-04, 5.37188542e-04, 5.43293718e-04, 5.45215078e-04,\n",
       "       5.46368236e-04, 5.46436711e-04, 5.52268245e-04, 5.54735631e-04,\n",
       "       5.66467538e-04, 5.69943275e-04, 5.70019724e-04, 5.78412489e-04,\n",
       "       6.16229924e-04, 6.16370809e-04, 6.24183509e-04, 6.40385256e-04,\n",
       "       6.60550665e-04, 6.66083238e-04, 6.79739136e-04, 6.80272109e-04,\n",
       "       6.83108126e-04, 6.84180125e-04, 6.84468697e-04, 6.86755301e-04,\n",
       "       7.10288426e-04, 7.28296168e-04, 7.47718180e-04, 8.02382424e-04,\n",
       "       8.23273444e-04, 9.27788940e-04, 9.35948534e-04, 9.75286444e-04,\n",
       "       9.75729158e-04, 1.04123758e-03, 1.51430492e-03, 1.82449535e-03,\n",
       "       2.03412071e-03, 2.04399427e-03, 4.34684535e-03, 6.03709839e-03,\n",
       "       1.32893933e-02, 1.94744529e-02, 6.37851973e-02])"
      ]
     },
     "execution_count": 124,
     "metadata": {},
     "output_type": "execute_result"
    }
   ],
   "source": [
    "#Post Pruning \n",
    "\n",
    "#Find ccp_alphas path\n",
    "ccp_alphas = dt.cost_complexity_pruning_path(X_train, y_train)['ccp_alphas']\n",
    "ccp_alphas"
   ]
  },
  {
   "cell_type": "code",
   "execution_count": 125,
   "metadata": {},
   "outputs": [],
   "source": [
    "# Keep all Params Same and only change cc_alpha\n",
    "dt_param_grid = {\n",
    "    'ccp_alpha'  : ccp_alphas\n",
    "}"
   ]
  },
  {
   "cell_type": "code",
   "execution_count": 126,
   "metadata": {},
   "outputs": [],
   "source": [
    "# Re Do Grid Search to get best cc_alpha\n",
    "gs_cc_dt = GridSearchCV(dt, param_grid = dt_param_grid, scoring = 'accuracy')"
   ]
  },
  {
   "cell_type": "code",
   "execution_count": 127,
   "metadata": {},
   "outputs": [
    {
     "data": {
      "text/plain": [
       "GridSearchCV(estimator=DecisionTreeClassifier(random_state=42),\n",
       "             param_grid={'ccp_alpha': array([0.00000000e+00, 3.94477318e-05, 4.73372781e-05, 6.31163708e-05,\n",
       "       7.10059172e-05, 7.88954635e-05, 7.88954635e-05, 7.88954635e-05,\n",
       "       7.88954635e-05, 7.88954635e-05, 1.09239873e-04, 1.16652578e-04,\n",
       "       1.36175732e-04, 1.38067061e-04, 1.40258602e-04, 1.42011834e-04,\n",
       "       1.43446297e-04, 1...\n",
       "       6.83108126e-04, 6.84180125e-04, 6.84468697e-04, 6.86755301e-04,\n",
       "       7.10288426e-04, 7.28296168e-04, 7.47718180e-04, 8.02382424e-04,\n",
       "       8.23273444e-04, 9.27788940e-04, 9.35948534e-04, 9.75286444e-04,\n",
       "       9.75729158e-04, 1.04123758e-03, 1.51430492e-03, 1.82449535e-03,\n",
       "       2.03412071e-03, 2.04399427e-03, 4.34684535e-03, 6.03709839e-03,\n",
       "       1.32893933e-02, 1.94744529e-02, 6.37851973e-02])},\n",
       "             scoring='accuracy')"
      ]
     },
     "execution_count": 127,
     "metadata": {},
     "output_type": "execute_result"
    }
   ],
   "source": [
    "gs_cc_dt.fit(X_train, y_train)"
   ]
  },
  {
   "cell_type": "code",
   "execution_count": 128,
   "metadata": {},
   "outputs": [
    {
     "data": {
      "text/plain": [
       "DecisionTreeClassifier(ccp_alpha=0.001041237577421493, random_state=42)"
      ]
     },
     "execution_count": 128,
     "metadata": {},
     "output_type": "execute_result"
    }
   ],
   "source": [
    "best_dt_cc = gs_cc_dt.best_estimator_\n",
    "gs_cc_dt.best_estimator_"
   ]
  },
  {
   "cell_type": "code",
   "execution_count": 129,
   "metadata": {},
   "outputs": [],
   "source": [
    "dt_p_score = best_dt_cc.score(X_test, y_test)"
   ]
  },
  {
   "cell_type": "code",
   "execution_count": 130,
   "metadata": {},
   "outputs": [],
   "source": [
    "y_train_predicted4 = best_dt_cc.predict(X_train)\n",
    "y_test_predicted4 = best_dt_cc.predict(X_test)"
   ]
  },
  {
   "cell_type": "code",
   "execution_count": 131,
   "metadata": {},
   "outputs": [
    {
     "name": "stdout",
     "output_type": "stream",
     "text": [
      "Accuracy score decision-trees post pruning max_depth=4 : 0.7938\n"
     ]
    }
   ],
   "source": [
    "print('Accuracy score decision-trees post pruning max_depth=4 : {0:0.4f}'. format(accuracy_score(y_test, y_test_predicted4)))"
   ]
  },
  {
   "cell_type": "code",
   "execution_count": 132,
   "metadata": {},
   "outputs": [
    {
     "name": "stdout",
     "output_type": "stream",
     "text": [
      "              precision    recall  f1-score   support\n",
      "\n",
      "           0       0.86      0.86      0.86      3104\n",
      "           1       0.62      0.63      0.62      1121\n",
      "\n",
      "    accuracy                           0.80      4225\n",
      "   macro avg       0.74      0.74      0.74      4225\n",
      "weighted avg       0.80      0.80      0.80      4225\n",
      "\n"
     ]
    }
   ],
   "source": [
    "print(classification_report(y_train, y_train_predicted4))"
   ]
  },
  {
   "cell_type": "code",
   "execution_count": 133,
   "metadata": {},
   "outputs": [
    {
     "name": "stdout",
     "output_type": "stream",
     "text": [
      "              precision    recall  f1-score   support\n",
      "\n",
      "           0       0.87      0.85      0.86       776\n",
      "           1       0.61      0.64      0.62       281\n",
      "\n",
      "    accuracy                           0.79      1057\n",
      "   macro avg       0.74      0.75      0.74      1057\n",
      "weighted avg       0.80      0.79      0.80      1057\n",
      "\n"
     ]
    }
   ],
   "source": [
    "print(classification_report(y_test, y_test_predicted4))"
   ]
  },
  {
   "cell_type": "code",
   "execution_count": 134,
   "metadata": {},
   "outputs": [
    {
     "name": "stdout",
     "output_type": "stream",
     "text": [
      "Random forest accuracy : 0.8061544965266575\n",
      "Bagging Tree accuracy: 0.7814569536423841\n",
      "Xgboost accuracy : 0.8088769092542678\n",
      "Decision Tree accuracy:  0.793755912961211\n"
     ]
    }
   ],
   "source": [
    "print('Random forest accuracy :',rf_score)\n",
    "print('Bagging Tree accuracy:',bt_score)\n",
    "print('Xgboost accuracy :',xgboost_score)\n",
    "print('Decision Tree accuracy: ',dt_p_score)"
   ]
  },
  {
   "cell_type": "markdown",
   "metadata": {},
   "source": [
    "Xgboost is the best model for customer Churn with the accuracy of 0.8088"
   ]
  },
  {
   "cell_type": "code",
   "execution_count": 207,
   "metadata": {
    "execution": {
     "iopub.execute_input": "2022-11-11T17:28:38.650925Z",
     "iopub.status.busy": "2022-11-11T17:28:38.650479Z",
     "iopub.status.idle": "2022-11-11T17:28:38.66446Z",
     "shell.execute_reply": "2022-11-11T17:28:38.663083Z",
     "shell.execute_reply.started": "2022-11-11T17:28:38.650891Z"
    }
   },
   "outputs": [],
   "source": [
    "# submission4 = pd.DataFrame({\n",
    "#     'customerID' : test['customerID'],\n",
    "#     'Churn' : y_sub_predicted\n",
    "# })\n",
    "# submission4.head()\n"
   ]
  },
  {
   "cell_type": "code",
   "execution_count": 208,
   "metadata": {
    "execution": {
     "iopub.execute_input": "2022-11-11T17:28:48.616664Z",
     "iopub.status.busy": "2022-11-11T17:28:48.616234Z",
     "iopub.status.idle": "2022-11-11T17:28:48.627511Z",
     "shell.execute_reply": "2022-11-11T17:28:48.626421Z",
     "shell.execute_reply.started": "2022-11-11T17:28:48.616629Z"
    }
   },
   "outputs": [],
   "source": [
    "# Export Submission file\n",
    "#submission4.to_csv('submission4.csv', index = False)"
   ]
  }
 ],
 "metadata": {
  "kernelspec": {
   "display_name": "Python 3 (ipykernel)",
   "language": "python",
   "name": "python3"
  },
  "language_info": {
   "codemirror_mode": {
    "name": "ipython",
    "version": 3
   },
   "file_extension": ".py",
   "mimetype": "text/x-python",
   "name": "python",
   "nbconvert_exporter": "python",
   "pygments_lexer": "ipython3",
   "version": "3.9.12"
  }
 },
 "nbformat": 4,
 "nbformat_minor": 4
}
